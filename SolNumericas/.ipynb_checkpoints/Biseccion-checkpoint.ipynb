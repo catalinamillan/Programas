{
 "cells": [
  {
   "cell_type": "markdown",
   "metadata": {},
   "source": [
    "### Método de Biseccion"
   ]
  },
  {
   "cell_type": "code",
   "execution_count": 1,
   "metadata": {},
   "outputs": [],
   "source": [
    "import numpy as np\n",
    "import matplotlib.pyplot as plt"
   ]
  },
  {
   "cell_type": "code",
   "execution_count": 2,
   "metadata": {},
   "outputs": [],
   "source": [
    "# Aquí sería que igualaras las funciones \n",
    "def f(x):\n",
    "    y=np.sin(x)\n",
    "    return y"
   ]
  },
  {
   "cell_type": "code",
   "execution_count": 7,
   "metadata": {},
   "outputs": [],
   "source": [
    "# a y b son suposiciones iniciales de donde se encuentra el cero \n",
    "a=1.\n",
    "b=5\n",
    "Nmax=1000 # Número máximo de iteraciones \n",
    "Tol=1.e-8  # Tolerancia, que no exeda el épsilon de la máquina\n",
    "error=1. # Error inicial\n",
    "i=0 # iteracion"
   ]
  },
  {
   "cell_type": "code",
   "execution_count": 8,
   "metadata": {},
   "outputs": [
    {
     "name": "stdout",
     "output_type": "stream",
     "text": [
      "i=1.0 \t ai=3.00000 \t bi=5.00000 \t pi=4.00000 \t f(p)=-0.75680 \t error=1.00000\n",
      "i=2.0 \t ai=3.00000 \t bi=4.00000 \t pi=3.50000 \t f(p)=-0.35078 \t error=0.50000\n",
      "i=3.0 \t ai=3.00000 \t bi=3.50000 \t pi=3.25000 \t f(p)=-0.10820 \t error=0.25000\n",
      "i=4.0 \t ai=3.00000 \t bi=3.25000 \t pi=3.12500 \t f(p)=0.01659 \t error=0.12500\n",
      "i=5.0 \t ai=3.12500 \t bi=3.25000 \t pi=3.18750 \t f(p)=-0.04589 \t error=0.06250\n",
      "i=6.0 \t ai=3.12500 \t bi=3.18750 \t pi=3.15625 \t f(p)=-0.01466 \t error=0.03125\n",
      "i=7.0 \t ai=3.12500 \t bi=3.15625 \t pi=3.14062 \t f(p)=0.00097 \t error=0.01562\n",
      "i=8.0 \t ai=3.14062 \t bi=3.15625 \t pi=3.14844 \t f(p)=-0.00684 \t error=0.00781\n",
      "i=9.0 \t ai=3.14062 \t bi=3.14844 \t pi=3.14453 \t f(p)=-0.00294 \t error=0.00391\n",
      "i=10.0 \t ai=3.14062 \t bi=3.14453 \t pi=3.14258 \t f(p)=-0.00099 \t error=0.00195\n",
      "i=11.0 \t ai=3.14062 \t bi=3.14258 \t pi=3.14160 \t f(p)=-0.00001 \t error=0.00098\n",
      "i=12.0 \t ai=3.14062 \t bi=3.14160 \t pi=3.14111 \t f(p)=0.00048 \t error=0.00049\n",
      "i=13.0 \t ai=3.14111 \t bi=3.14160 \t pi=3.14136 \t f(p)=0.00024 \t error=0.00024\n",
      "i=14.0 \t ai=3.14136 \t bi=3.14160 \t pi=3.14148 \t f(p)=0.00011 \t error=0.00012\n",
      "i=15.0 \t ai=3.14148 \t bi=3.14160 \t pi=3.14154 \t f(p)=0.00005 \t error=0.00006\n",
      "i=16.0 \t ai=3.14154 \t bi=3.14160 \t pi=3.14157 \t f(p)=0.00002 \t error=0.00003\n",
      "i=17.0 \t ai=3.14157 \t bi=3.14160 \t pi=3.14159 \t f(p)=0.00001 \t error=0.00002\n",
      "i=18.0 \t ai=3.14159 \t bi=3.14160 \t pi=3.14159 \t f(p)=-0.00000 \t error=0.00001\n",
      "i=19.0 \t ai=3.14159 \t bi=3.14159 \t pi=3.14159 \t f(p)=0.00000 \t error=0.00000\n",
      "i=20.0 \t ai=3.14159 \t bi=3.14159 \t pi=3.14159 \t f(p)=0.00000 \t error=0.00000\n",
      "i=21.0 \t ai=3.14159 \t bi=3.14159 \t pi=3.14159 \t f(p)=-0.00000 \t error=0.00000\n",
      "i=22.0 \t ai=3.14159 \t bi=3.14159 \t pi=3.14159 \t f(p)=0.00000 \t error=0.00000\n",
      "i=23.0 \t ai=3.14159 \t bi=3.14159 \t pi=3.14159 \t f(p)=-0.00000 \t error=0.00000\n",
      "i=24.0 \t ai=3.14159 \t bi=3.14159 \t pi=3.14159 \t f(p)=0.00000 \t error=0.00000\n",
      "i=25.0 \t ai=3.14159 \t bi=3.14159 \t pi=3.14159 \t f(p)=-0.00000 \t error=0.00000\n",
      "i=26.0 \t ai=3.14159 \t bi=3.14159 \t pi=3.14159 \t f(p)=0.00000 \t error=0.00000\n",
      "i=27.0 \t ai=3.14159 \t bi=3.14159 \t pi=3.14159 \t f(p)=-0.00000 \t error=0.00000\n",
      "i=28.0 \t ai=3.14159 \t bi=3.14159 \t pi=3.14159 \t f(p)=-0.00000 \t error=0.00000\n"
     ]
    }
   ],
   "source": [
    "#Intervalo\n",
    "ai=a\n",
    "bi=b\n",
    " \n",
    "if(f(a)*f(b)<0):\n",
    " \n",
    "    while(error>Tol):\n",
    "        p=(bi+ai)*.5\n",
    "        p_prev=p\n",
    "        if(f(a)*f(p)<0):\n",
    "            bi=p\n",
    "            ai=ai\n",
    "        elif(f(b)*f(p)<0):\n",
    "            ai=p\n",
    "            bi=bi\n",
    "        i+=1\n",
    "        p=(bi+ai)*.5\n",
    "        error=abs(p-p_prev)\n",
    "    \n",
    "        print(\"i=%.1f \\t ai=%.5f \\t bi=%.5f \\t pi=%.5f \\t f(p)=%.5f \\t error=%.5f\" %(i,ai,bi,p,f(p),error)) # P es el cero (o la interseccion)\n",
    " \n",
    "        if(i>=Nmax):\n",
    "            print(\"Numero maximo de iteraciones excedido\")\n",
    "            break\n",
    "else:\n",
    "    print(\"Intervalo inadecuado\")"
   ]
  },
  {
   "cell_type": "code",
   "execution_count": null,
   "metadata": {},
   "outputs": [],
   "source": []
  }
 ],
 "metadata": {
  "kernelspec": {
   "display_name": "Python 2",
   "language": "python",
   "name": "python2"
  },
  "language_info": {
   "codemirror_mode": {
    "name": "ipython",
    "version": 2
   },
   "file_extension": ".py",
   "mimetype": "text/x-python",
   "name": "python",
   "nbconvert_exporter": "python",
   "pygments_lexer": "ipython2",
   "version": "2.7.12"
  }
 },
 "nbformat": 4,
 "nbformat_minor": 1
}
