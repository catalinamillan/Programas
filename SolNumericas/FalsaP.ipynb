{
 "metadata": {
  "name": "",
  "signature": "sha256:1e27eede445a54a4b6d8481c59555f28dd77f38e22e31679982fb3dea2d1af0e"
 },
 "nbformat": 3,
 "nbformat_minor": 0,
 "worksheets": [
  {
   "cells": [
    {
     "cell_type": "markdown",
     "metadata": {},
     "source": [
      "## M\u00e9todo de la Falsa posicion"
     ]
    },
    {
     "cell_type": "code",
     "collapsed": false,
     "input": [
      "import numpy as np "
     ],
     "language": "python",
     "metadata": {},
     "outputs": [],
     "prompt_number": 1
    },
    {
     "cell_type": "code",
     "collapsed": false,
     "input": [
      "def f(x):\n",
      "    value=2-x+3*np.sin(x)\n",
      "    return value"
     ],
     "language": "python",
     "metadata": {},
     "outputs": [],
     "prompt_number": 2
    },
    {
     "cell_type": "code",
     "collapsed": false,
     "input": [
      "#Inputs \n",
      "p_prev_2=0.\n",
      "p_prev_1=5.\n",
      "Tol=1e-8\n",
      "error=1.\n",
      "Nmax=100\n",
      "iteracion=0"
     ],
     "language": "python",
     "metadata": {},
     "outputs": [],
     "prompt_number": 3
    },
    {
     "cell_type": "code",
     "collapsed": false,
     "input": [
      "#El algoritmo\n",
      "while(error>Tol):\n",
      "    p=p_prev_1-(p_prev_2)*f(p_prev_1)/(f(p_prev_1)-f(p_prev_2))\n",
      "    error=abs(p-p_prev_1)\n",
      "    if(f(p)*f(p_prev_1)):\n",
      "        p_prev_2=p_prev_1\n",
      "        p_prev_1=p\n",
      "        print(\"p_n=%.16f\\t error=%.16f\\t abs(f(p_n))=%.16f\"%(p,error,abs(f(p))))\n",
      "    elif(f(p)*f(p_prev_1)>0):\n",
      "        p_prev_1=p_prev_2\n",
      "        p_prev_2=p\n",
      "        print(\"p_n=%.16f\\t error=%.16f\\t abs(f(p_n))=%.16f\"%(p,error,abs(f(p))))\n",
      "    iteracion=iteracion+1\n",
      "    if(iteracion>=Nmax):\n",
      "        print(\"El metrodo no converge despues de %d iteraciones\"%Nmax)\n",
      "        break"
     ],
     "language": "python",
     "metadata": {},
     "outputs": [
      {
       "output_type": "stream",
       "stream": "stdout",
       "text": [
        "p_n=5.0000000000000000\t error=0.0000000000000000\t abs(f(p_n))=5.8767728239894153\n"
       ]
      }
     ],
     "prompt_number": 4
    },
    {
     "cell_type": "code",
     "collapsed": false,
     "input": [],
     "language": "python",
     "metadata": {},
     "outputs": []
    }
   ],
   "metadata": {}
  }
 ]
}