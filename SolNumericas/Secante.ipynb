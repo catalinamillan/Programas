{
 "metadata": {
  "name": "",
  "signature": "sha256:9d6cf5505f33d4574c98699da6a859f03d65561dfd8c1755e7df2a1a5c61c57b"
 },
 "nbformat": 3,
 "nbformat_minor": 0,
 "worksheets": [
  {
   "cells": [
    {
     "cell_type": "markdown",
     "metadata": {},
     "source": [
      "### M\u00e9todo de la secante "
     ]
    },
    {
     "cell_type": "code",
     "collapsed": false,
     "input": [
      "import numpy as np "
     ],
     "language": "python",
     "metadata": {},
     "outputs": [],
     "prompt_number": 1
    },
    {
     "cell_type": "code",
     "collapsed": false,
     "input": [
      "def f(x):\n",
      "    y=np.sin(x)+x**2+.2\n",
      "    return y"
     ],
     "language": "python",
     "metadata": {},
     "outputs": [],
     "prompt_number": 2
    },
    {
     "cell_type": "code",
     "collapsed": false,
     "input": [
      "Nmax=1000\n",
      "Tol=1.e-16\n",
      "p_0=-.4\n",
      "p_1=1.\n",
      "i=1\n",
      "error=1.\n",
      "\n",
      "while(error>Tol):\n",
      "    p=p_1-f(p_1)*(p_1-p_0)/(f(p_1)-f(p_0))\n",
      "    error=abs(p-p_1)\n",
      "    print(\"%d \\t p=%.16f\\t f(p)=%.16f\\t error=%.16f\\t \"%(i,p,f(p),error))\n",
      "    p_0=p_1\n",
      "    p_1=p\n",
      "    i+=1\n",
      "    if(i>Nmax):\n",
      "        print(\"Nmax superado\")\n",
      "        break"
     ],
     "language": "python",
     "metadata": {},
     "outputs": [
      {
       "output_type": "stream",
       "stream": "stdout",
       "text": [
        "1 \t p=-0.3801120809823977\t f(p)=-0.0265393586188906\t error=1.3801120809823977\t \n",
        "2 \t p=-0.3624007143212609\t f(p)=-0.0231857591308015\t error=0.0177113666611368\t \n",
        "3 \t p=-0.2399497529763149\t f(p)=0.0199220646685395\t error=0.1224509613449460\t \n",
        "4 \t p=-0.2965398509129251\t f(p)=-0.0042769543217809\t error=0.0565900979366102\t \n",
        "5 \t p=-0.2865380709218932\t f(p)=-0.0005290797467923\t error=0.0100017799910319\t \n",
        "6 \t p=-0.2851261402077646\t f(p)=0.0000184148513525\t error=0.0014119307141285\t \n",
        "7 \t p=-0.2851736301634807\t f(p)=-0.0000000739253884\t error=0.0000474899557161\t \n",
        "8 \t p=-0.2851734402799924\t f(p)=-0.0000000000102447\t error=0.0000001898834883\t \n",
        "9 \t p=-0.2851734402536743\t f(p)=-0.0000000000000000\t error=0.0000000000263181\t \n",
        "10 \t p=-0.2851734402536742\t f(p)=0.0000000000000000\t error=0.0000000000000001\t \n"
       ]
      }
     ],
     "prompt_number": 3
    },
    {
     "cell_type": "code",
     "collapsed": false,
     "input": [],
     "language": "python",
     "metadata": {},
     "outputs": []
    }
   ],
   "metadata": {}
  }
 ]
}