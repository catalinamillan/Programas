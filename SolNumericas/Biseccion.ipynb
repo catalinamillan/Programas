{
 "cells": [
  {
   "cell_type": "markdown",
   "metadata": {},
   "source": [
    "### Método de Biseccion"
   ]
  },
  {
   "cell_type": "code",
   "execution_count": 17,
   "metadata": {},
   "outputs": [],
   "source": [
    "import numpy as np\n",
    "import matplotlib.pyplot as plt"
   ]
  },
  {
   "cell_type": "code",
   "execution_count": 18,
   "metadata": {},
   "outputs": [],
   "source": [
    "# Aquí sería que igualaras las funciones \n",
    "def f(x):\n",
    "    y=np.sin(x)\n",
    "    return y"
   ]
  },
  {
   "cell_type": "code",
   "execution_count": 19,
   "metadata": {},
   "outputs": [],
   "source": [
    "# a y b son suposiciones iniciales de donde se encuentra el cero \n",
    "a=1.\n",
    "b=5\n",
    "Nmax=1000 # Número máximo de iteraciones \n",
    "Tol=1.e-8  # Tolerancia, que no exeda el épsilon de la máquina\n",
    "error=1. # Error inicial\n",
    "i=0 # iteracion"
   ]
  },
  {
   "cell_type": "code",
   "execution_count": 38,
   "metadata": {},
   "outputs": [
    {
     "name": "stdout",
     "output_type": "stream",
     "text": [
      "i=99.0 \t ai=1.00000 \t bi=5.00000 \t pi=3.14159 \t f(p)=-0.00000 \t error=0.00000\n"
     ]
    }
   ],
   "source": [
    "#Intervalo\n",
    "ai=a\n",
    "bi=b\n",
    " \n",
    "if(f(a)*f(b)<0):\n",
    " \n",
    "    while(error>Tol):\n",
    "        p=(bi+ai)*.5\n",
    "        p_prev=p\n",
    "        if(f(a)*f(p)<0):\n",
    "            bi=p\n",
    "            ai=ai\n",
    "        elif(f(b)*f(p)<0):\n",
    "            ai=p\n",
    "            bi=bi\n",
    "        i+=1\n",
    "        p=(bi+ai)*.5\n",
    "        error=abs(p-p_prev)\n",
    "    \n",
    "        print(\"i=%.1f \\t ai=%.5f \\t bi=%.5f \\t pi=%.5f \\t f(p)=%.5f \\t error=%.5f\" %(i,ai,bi,p,f(p),error)) # P es el cero (o la interseccion)\n",
    " \n",
    "        if(i>=Nmax):\n",
    "            print(\"Numero maximo de iteraciones excedido\")\n",
    "            break\n",
    "else:\n",
    "    print(\"Intervalo inadecuado\")"
   ]
  },
  {
   "cell_type": "code",
   "execution_count": 45,
   "metadata": {},
   "outputs": [
    {
     "data": {
      "image/png": "[encoded data removed]",
      "text/plain": [
       "<Figure size 432x288 with 1 Axes>"
      ]
     },
     "metadata": {
      "needs_background": "light"
     },
     "output_type": "display_data"
    }
   ],
   "source": [
    "x_list=np.linspace(1,20,100)\n",
    "y_list=[]\n",
    "for i in range(len(x_list)):\n",
    "    y_list.append(f(x_list[i]))\n",
    "\n",
    "fig=plt.figure()\n",
    "ax=plt.axes()\n",
    "ax.plot(x_list,y_list,'*')\n",
    "plt.show()"
   ]
  },
  {
   "cell_type": "code",
   "execution_count": null,
   "metadata": {},
   "outputs": [],
   "source": []
  }
 ],
 "metadata": {
  "kernelspec": {
   "display_name": "Python 2",
   "language": "python",
   "name": "python2"
  },
  "language_info": {
   "codemirror_mode": {
    "name": "ipython",
    "version": 2
   },
   "file_extension": ".py",
   "mimetype": "text/x-python",
   "name": "python",
   "nbconvert_exporter": "python",
   "pygments_lexer": "ipython2",
   "version": "2.7.12"
  }
 },
 "nbformat": 4,
 "nbformat_minor": 1
}
