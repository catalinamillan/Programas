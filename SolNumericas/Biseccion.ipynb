{
 "metadata": {
  "name": "",
  "signature": "sha256:cab94174696dc86b951406c50ca350187c6944b3d62b9d885934b5fc33cf3a75"
 },
 "nbformat": 3,
 "nbformat_minor": 0,
 "worksheets": [
  {
   "cells": [
    {
     "cell_type": "markdown",
     "metadata": {},
     "source": [
      "### M\u00e9todo de Biseccion"
     ]
    },
    {
     "cell_type": "code",
     "collapsed": false,
     "input": [
      "import numpy as np"
     ],
     "language": "python",
     "metadata": {},
     "outputs": []
    },
    {
     "cell_type": "code",
     "collapsed": false,
     "input": [
      "def f(x):\n",
      "    y=np.sin(x)\n",
      "    return y"
     ],
     "language": "python",
     "metadata": {},
     "outputs": []
    },
    {
     "cell_type": "code",
     "collapsed": false,
     "input": [
      "a=1.\n",
      "b=5\n",
      "Nmax=1000\n",
      "Tol=1.e-8\n",
      "error=1.\n",
      "i=0"
     ],
     "language": "python",
     "metadata": {},
     "outputs": []
    },
    {
     "cell_type": "code",
     "collapsed": false,
     "input": [
      "#Intervalo\n",
      "ai=a\n",
      "bi=b\n",
      " \n",
      "if(f(a)*f(b)<0):\n",
      " \n",
      "    while(error>Tol):\n",
      "        p=(bi+ai)*.5\n",
      "        p_prev=p\n",
      "        if(f(a)*f(p)<0):\n",
      "            bi=p\n",
      "            ai=ai\n",
      "        elif(f(b)*f(p)<0):\n",
      "            ai=p\n",
      "            bi=bi\n",
      "        i+=1\n",
      "        p=(bi+ai)*.5\n",
      "        error=abs(p-p_prev)\n",
      "    \n",
      "        print(\"i=%.1f \\t ai=%.5f \\t bi=%.5f \\t pi=%.5f \\t f(p)=%.5f \\t error=%.5f\" %(i,ai,bi,p,f(p),error))\n",
      " \n",
      "        if(i>=Nmax):\n",
      "            print(\"Numero maximo de iteraciones excedido\")\n",
      "            break\n",
      "else:\n",
      "    print(\"Intervalo inadecuado\")"
     ],
     "language": "python",
     "metadata": {},
     "outputs": []
    }
   ],
   "metadata": {}
  }
 ]
}