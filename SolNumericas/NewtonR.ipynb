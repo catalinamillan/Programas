{
 "metadata": {
  "name": "",
  "signature": "sha256:963ad7c193a6541d431b22c618337b7de891b064a501c1250b2b3a0d657dd3d4"
 },
 "nbformat": 3,
 "nbformat_minor": 0,
 "worksheets": [
  {
   "cells": [
    {
     "cell_type": "markdown",
     "metadata": {},
     "source": [
      "## Metodo de Newton Raphson"
     ]
    },
    {
     "cell_type": "code",
     "collapsed": false,
     "input": [
      "import numpy as np"
     ],
     "language": "python",
     "metadata": {},
     "outputs": [],
     "prompt_number": 1
    },
    {
     "cell_type": "code",
     "collapsed": false,
     "input": [
      "def f(x):\n",
      "    y=np.cos(x)-x\n",
      "    return y\n",
      "def dfdx(x):\n",
      "    y=-np.sin(x)-1.\n",
      "    return y"
     ],
     "language": "python",
     "metadata": {},
     "outputs": [],
     "prompt_number": 2
    },
    {
     "cell_type": "code",
     "collapsed": false,
     "input": [
      "Tol=1.e-8\n",
      "Nmax=1000\n",
      "error=1.\n",
      "iteracion=0\n",
      "p_prev=5."
     ],
     "language": "python",
     "metadata": {},
     "outputs": [],
     "prompt_number": 3
    },
    {
     "cell_type": "code",
     "collapsed": false,
     "input": [
      "while(error>Tol):\n",
      "    p=p_prev-f(p_prev)/dfdx(p_prev)\n",
      "    error=abs(p-p_prev)\n",
      "    p_prev=p\n",
      "    iteracion+=1\n",
      "    if(iteracion>Nmax):\n",
      "        print(\"El metodo no converge despues de %d iteraciones\", Nmax)\n",
      "        break\n",
      "    print(\"p=%.16f \\t error=%.16f \\t abs(f(p))=%.16f \\t\" %(p,error,abs(f(p))))"
     ],
     "language": "python",
     "metadata": {},
     "outputs": [
      {
       "output_type": "stream",
       "stream": "stdout",
       "text": [
        "p=-109.8205607048479777 \t error=114.8205607048479777 \t abs(f(p))=108.8296839085093382 \t\n",
        "p=15.9607775610820681 \t error=125.7813382659300458 \t abs(f(p))=16.9289898794384257 \t\n",
        "p=-6.6151154617295376 \t error=22.5758930228116057 \t abs(f(p))=7.5605305902824282 \t\n",
        "p=4.6000997047291037 \t error=11.2152151664586412 \t abs(f(p))=4.7121531554145362 \t\n",
        "p=-743.6197251930475431 \t error=748.2198248977766752 \t abs(f(p))=743.0281085215041230 \t\n",
        "p=3090.7583906372142337 \t error=3834.3781158302617769 \t abs(f(p))=3089.9158322043444969 \t\n",
        "p=-3606.1400727091681802 \t error=6696.8984633463824139 \t abs(f(p))=3607.0578723786452429 \t\n",
        "p=-1024.2182226354320846 \t error=2581.9218500737360955 \t abs(f(p))=1025.2164816043662086 \t\n",
        "p=65.2592470776255595 \t error=1089.4774697130576442 \t abs(f(p))=66.0148654568188960 \t\n",
        "p=25.3714027324184599 \t error=39.8878443452070996 \t abs(f(p))=24.3997474636864844 \t\n",
        "p=5.6369297159794698 \t error=19.7344730164389901 \t abs(f(p))=4.8385854382011093 \t\n",
        "p=-6.5264723343639304 \t error=12.1634020503434002 \t abs(f(p))=7.4970237281990766 \t\n",
        "p=3.3496519726974086 \t error=9.8761243070613389 \t abs(f(p))=4.3280855995619394 \t\n",
        "p=-2.1051947424657396 \t error=5.4548467151631481 \t abs(f(p))=1.5958713193887430 \t\n",
        "p=9.3409121107299420 \t error=11.4461068531956816 \t abs(f(p))=10.3373974310891690 \t\n",
        "p=-0.1974775655792413 \t error=9.5383896763091833 \t abs(f(p))=1.1780421553263052 \t\n",
        "p=1.2681072760549799 \t error=1.4655848416342212 \t abs(f(p))=0.9700191926484540 \t\n",
        "p=0.7718165872112590 \t error=0.4962906888437209 \t abs(f(p))=0.0551716918249556 \t\n",
        "p=0.7393136715620769 \t error=0.0325029156491821 \t abs(f(p))=0.0003825038263141 \t\n",
        "p=0.7390851447450119 \t error=0.0002285268170651 \t abs(f(p))=0.0000000192964977 \t\n",
        "p=0.7390851332151607 \t error=0.0000000115298512 \t abs(f(p))=0.0000000000000000 \t\n",
        "p=0.7390851332151607 \t error=0.0000000000000000 \t abs(f(p))=0.0000000000000000 \t\n"
       ]
      }
     ],
     "prompt_number": 4
    },
    {
     "cell_type": "code",
     "collapsed": false,
     "input": [
      "#forma alternativa \n",
      "\n",
      "#while(iteracion<Nmax):\n",
      "#    p=p_prev-f(p_prev)/dfdx(p_prev)\n",
      "#    error=abs(p-p_prev)\n",
      "#    print(\"p=%.16f \\t error=%.16f \\t abs(f(p))=%.16f \\t\" %(p,error,abs(f(p))))\n",
      "#    if (error<Tol):\n",
      "#        break\n",
      "#    iteracion+=1\n",
      "#    p_prev=p\n",
      "#if(iteracion>=Nmax):\n",
      "#    print(\"El m\u00e9todo falla luego de %d iteraciones\" %Nmax)"
     ],
     "language": "python",
     "metadata": {},
     "outputs": []
    }
   ],
   "metadata": {}
  }
 ]
}