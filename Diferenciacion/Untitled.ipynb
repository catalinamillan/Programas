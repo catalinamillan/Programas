{
 "cells": [
  {
   "cell_type": "code",
   "execution_count": 2,
   "metadata": {},
   "outputs": [],
   "source": [
    "import numpy as np"
   ]
  },
  {
   "cell_type": "code",
   "execution_count": 14,
   "metadata": {},
   "outputs": [
    {
     "name": "stdout",
     "output_type": "stream",
     "text": [
      "[[0.000000e+00 1.308850e+04 1.126220e+04 ... 1.126220e+04 3.667800e+03\n",
      "  1.000000e+00]\n",
      " [1.285800e+04 1.308846e+04 1.126217e+04 ... 1.126217e+04 3.667780e+03\n",
      "  1.000000e+00]\n",
      " [2.571600e+04 1.308836e+04 1.126210e+04 ... 1.126210e+04 3.667730e+03\n",
      "  1.000000e+00]\n",
      " ...\n",
      " [6.368000e+06 2.600000e+03 5.800000e+03 ... 5.800000e+03 3.200000e+03\n",
      "  1.000000e+00]\n",
      " [6.368000e+06 1.020000e+03 1.450000e+03 ... 1.450000e+03 0.000000e+00\n",
      "  1.000000e+00]\n",
      " [6.371000e+06 1.020000e+03 1.450000e+03 ... 1.450000e+03 0.000000e+00\n",
      "  1.000000e+00]]\n"
     ]
    }
   ],
   "source": [
    "data = np.loadtxt(\"/home/catalina/Desktop/Programas/PREM500\") # Carga el archivo como un arreglo de numeros\n",
    "\n",
    "radius=data[:,0:1]\n",
    "radius_list=[data[i-1:i,0:1][0][0] for i in range(1,len(data)+1)]\n",
    "density_list =[data[i-1:i,1:2][0][0] for i in range(1,len(data)+1)] #Esto es porque el código trabaja con listas\n",
    "### data[fila_i:fila_j,columna_i:columna_j] \n",
    "\n",
    "print (data)"
   ]
  },
  {
   "cell_type": "code",
   "execution_count": null,
   "metadata": {},
   "outputs": [],
   "source": []
  }
 ],
 "metadata": {
  "kernelspec": {
   "display_name": "Python 2",
   "language": "python",
   "name": "python2"
  },
  "language_info": {
   "codemirror_mode": {
    "name": "ipython",
    "version": 2
   },
   "file_extension": ".py",
   "mimetype": "text/x-python",
   "name": "python",
   "nbconvert_exporter": "python",
   "pygments_lexer": "ipython2",
   "version": "2.7.12"
  }
 },
 "nbformat": 4,
 "nbformat_minor": 2
}
