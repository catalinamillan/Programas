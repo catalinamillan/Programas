{
 "cells": [
  {
   "cell_type": "code",
   "execution_count": 1,
   "metadata": {},
   "outputs": [],
   "source": [
    "import numpy as np\n",
    "import matplotlib.pyplot as plt"
   ]
  },
  {
   "cell_type": "code",
   "execution_count": 2,
   "metadata": {},
   "outputs": [
    {
     "data": {
      "image/png": "[encoded data removed]",
      "text/plain": [
       "<Figure size 432x288 with 1 Axes>"
      ]
     },
     "metadata": {
      "needs_background": "light"
     },
     "output_type": "display_data"
    }
   ],
   "source": [
    "data = np.loadtxt(\"/home/catalina/Desktop/Programas/PREM500\")\n",
    "radius = data[: ,0:1]\n",
    "density = data[:,1:2]\n",
    "\n",
    "radius_list = [i[0] for i in radius]\n",
    "density_list = [i[0] for i in density]\n",
    "\n",
    "fig=plt.figure\n",
    "ax=plt.axes()\n",
    "plt.title(\"f(x)  - x\", fontsize=15)\n",
    "ax.plot(radius_list,density_list)\n",
    "plt.show()"
   ]
  },
  {
   "cell_type": "code",
   "execution_count": 3,
   "metadata": {},
   "outputs": [],
   "source": [
    "#El error de evaluar la derivada en los bordes es siempre mayor que en el interior estricto del intervalo\n",
    "#siempre se va a considerar que el punto en el que se está evalueando es x_0\n",
    "\n",
    "def dfdx(x_list,y_list,x):\n",
    "    \n",
    "        if  (x==x_list[0]): #Si el punto a derivar es el borde izquierdo\n",
    "            \n",
    "            x0 = x_list[0]\n",
    "            y0 = y_list[0]\n",
    "            \n",
    "            x1 = x_list[1]\n",
    "            y1 = y_list[1]\n",
    "            \n",
    "            x2 = x_list[2]\n",
    "            y2 = y_list[2]\n",
    "            \n",
    "            xj = x0\n",
    "\n",
    "        elif(x==x_list[len(x_list)-1]): #Si el punto a derivar es el borde derecho\n",
    "            x0 = x_list[len(x_list)-1]\n",
    "            y0 = y_list[len(y_list)-1]\n",
    "            \n",
    "            x1 = x_list[len(x_list)-2]\n",
    "            y1 = y_list[len(y_list)-1]\n",
    "            \n",
    "            x2 = x_list[len(x_list)-3]\n",
    "            y2 = y_list[len(y_list)-1] \n",
    "            xj = x0\n",
    "            \n",
    "        else:\n",
    "            i=x_list.index(x)  #Esto es para ubicar la posicion del x en x_list y poder usar sus dos puntos contiguos\n",
    "            x0 = x_list[i]\n",
    "            y0 = y_list[i]\n",
    "             \n",
    "            x1 = x_list[i-1]\n",
    "            y1 = y_list[i-1]\n",
    "             \n",
    "            x2 = x_list[i+1]\n",
    "            y2 = y_list[i+1]\n",
    "             \n",
    "            xj = x0\n",
    "             \n",
    "        dL0dx = (2*xj-x1 -x2)/((x0-x1)*(x0-x2))\n",
    "        dL1dx = (2*xj-x0-x2)/((x1-x0)*(x1-x2))\n",
    "        dL2dx = (2*xj-x0-x1)/((x2-x0)*(x2-x1))\n",
    "        \n",
    "        return dL0dx*y0 + dL1dx*y1 + dL2dx*y2"
   ]
  },
  {
   "cell_type": "code",
   "execution_count": 4,
   "metadata": {},
   "outputs": [],
   "source": [
    "dfdx_list = []\n",
    "radius_list2 = []\n",
    "for i in range(len(radius_list)-1):\n",
    "   \n",
    "    if(radius_list[i]==radius_list[i+1] or radius_list[i-1]==radius_list[i]):\n",
    "        continue\n",
    "    else:\n",
    "        dfdx_list.append(dfdx(radius_list,density_list,radius_list[i]))\n",
    "        radius_list2.append(radius_list[i])\n"
   ]
  },
  {
   "cell_type": "code",
   "execution_count": 5,
   "metadata": {},
   "outputs": [
    {
     "data": {
      "image/png": "[encoded data removed]",
      "text/plain": [
       "<Figure size 432x288 with 1 Axes>"
      ]
     },
     "metadata": {
      "needs_background": "light"
     },
     "output_type": "display_data"
    }
   ],
   "source": [
    "fig=plt.figure()\n",
    "ax=plt.axes()\n",
    "plt.title(\"df/dx  -  x\", fontsize=15)\n",
    "ax.plot(radius_list2,dfdx_list,'.')\n",
    "plt.show()"
   ]
  }
 ],
 "metadata": {
  "kernelspec": {
   "display_name": "Python 2",
   "language": "python",
   "name": "python2"
  },
  "language_info": {
   "codemirror_mode": {
    "name": "ipython",
    "version": 2
   },
   "file_extension": ".py",
   "mimetype": "text/x-python",
   "name": "python",
   "nbconvert_exporter": "python",
   "pygments_lexer": "ipython2",
   "version": "2.7.12"
  }
 },
 "nbformat": 4,
 "nbformat_minor": 2
}
