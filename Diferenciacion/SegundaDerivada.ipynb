{
 "cells": [
  {
   "cell_type": "code",
   "execution_count": 1,
   "metadata": {},
   "outputs": [],
   "source": [
    "x_list = [1.8,1.9,2.,2.1,2.2] #La lista debe estar ordenada\n",
    "y_list = [10.889365,12.703199,14.778112,17.148957,19.855030]"
   ]
  },
  {
   "cell_type": "code",
   "execution_count": 2,
   "metadata": {},
   "outputs": [],
   "source": [
    "#La función primera derivada \n",
    "def dydx(x_list,y_list):  #puntos igualmente espaciados\n",
    "    \n",
    "    #Calcular valor de h\n",
    "    h=x_list[1]-x_list[0]\n",
    "    \n",
    "    #Creamos lista vacia para almacenar las derivadas\n",
    "    dydx_list=[]\n",
    "    \n",
    "    for i in range(0,len(x_list)):\n",
    "        # Usar diferencia hacia adelante\n",
    "        if i==0:\n",
    "            f0=y_list[i]\n",
    "            f1=y_list[i+1]\n",
    "            f2=y_list[i+2]\n",
    "            value=0.5/h*(-3*f0+4*f1-f2)\n",
    "        elif i==len(x_list)-1:\n",
    "            f0=y_list[i-2]\n",
    "            f1=y_list[i-1]\n",
    "            f2=y_list[i]\n",
    "            value=0.5/h*(f0-4*f1+3*f2)\n",
    "        else:\n",
    "            f0=y_list[i-1]\n",
    "            f1=y_list[i]\n",
    "            f2=y_list[i+1]\n",
    "            value=0.5/h*(f2-f0)\n",
    "            \n",
    "        dydx_list.append(value)\n",
    "        \n",
    "    return dydx_list\n",
    "            \n",
    "\n",
    "#La función segunda derivada \n",
    "def ddyddx(x_list,y_list):\n",
    "    \n",
    "    #Calcular valor de h\n",
    "    h=x_list[1]-x_list[0]\n",
    "    \n",
    "    #Creamos lista vacia para almacenar las derivadas\n",
    "    ddyddx_list=[]\n",
    "    \n",
    "    for i in range(0,len(x_list)):\n",
    "        # Usar diferencia hacia adelante\n",
    "        if i==0:\n",
    "            f0=y_list[i]\n",
    "            f1=y_list[i+1]\n",
    "            f2=y_list[i+2]\n",
    "            value=1/(h*h)*(f0-2*f1+f2)\n",
    "        elif i==len(x_list)-1:\n",
    "            f0=y_list[i-2]\n",
    "            f1=y_list[i-1]\n",
    "            f2=y_list[i]\n",
    "            value=1/(h*h)*(f0-2*f1+f2)\n",
    "        else:\n",
    "            f0=y_list[i-1]\n",
    "            f1=y_list[i]\n",
    "            f2=y_list[i+1]\n",
    "            value=1/(h*h)*(f0-2*f1+f2)\n",
    "            \n",
    "        ddyddx_list.append(value)\n",
    "        \n",
    "    return ddyddx_list"
   ]
  },
  {
   "cell_type": "code",
   "execution_count": 3,
   "metadata": {},
   "outputs": [
    {
     "data": {
      "text/plain": [
       "[16.832945000000013,\n",
       " 19.44373500000003,\n",
       " 22.22879000000003,\n",
       " 25.38459000000003,\n",
       " 28.736870000000042]"
      ]
     },
     "execution_count": 3,
     "metadata": {},
     "output_type": "execute_result"
    }
   ],
   "source": [
    "dydx(x_list,y_list)"
   ]
  },
  {
   "cell_type": "code",
   "execution_count": null,
   "metadata": {},
   "outputs": [],
   "source": []
  }
 ],
 "metadata": {
  "kernelspec": {
   "display_name": "Python 3",
   "language": "python",
   "name": "python3"
  },
  "language_info": {
   "codemirror_mode": {
    "name": "ipython",
    "version": 3
   },
   "file_extension": ".py",
   "mimetype": "text/x-python",
   "name": "python",
   "nbconvert_exporter": "python",
   "pygments_lexer": "ipython3",
   "version": "3.5.2"
  }
 },
 "nbformat": 4,
 "nbformat_minor": 2
}
