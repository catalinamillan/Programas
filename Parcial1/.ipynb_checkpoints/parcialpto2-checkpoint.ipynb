{
 "cells": [
  {
   "cell_type": "markdown",
   "metadata": {},
   "source": [
    "## Pto 2 Catalina Millan"
   ]
  },
  {
   "cell_type": "code",
   "execution_count": 56,
   "metadata": {
    "collapsed": true
   },
   "outputs": [],
   "source": [
    "import numpy as np\n",
    "import matplotlib.pyplot as plt"
   ]
  },
  {
   "cell_type": "code",
   "execution_count": 57,
   "metadata": {
    "collapsed": true
   },
   "outputs": [],
   "source": [
    "m1=.988\n",
    "m2=.012\n",
    "x1=0\n",
    "x2=1\n",
    "R=384400\n",
    "\n",
    "def f(x):\n",
    "    return x-m1*(x-x1)/(abs(x-x1))**3-m2*(x-x2)/(abs(x-x2))**3"
   ]
  },
  {
   "cell_type": "code",
   "execution_count": 58,
   "metadata": {
    "collapsed": true
   },
   "outputs": [],
   "source": [
    "a=-1.5\n",
    "b=-.5\n",
    "Nmax=1000 # Número máximo de iteraciones \n",
    "Tol=1.e-8  # Tolerancia, que no exeda el épsilon de la máquina\n",
    "error=1. # Error inicial\n",
    "i=0 "
   ]
  },
  {
   "cell_type": "code",
   "execution_count": 59,
   "metadata": {},
   "outputs": [
    {
     "name": "stdout",
     "output_type": "stream",
     "text": [
      "i=1.0 \t ai=-1.00000 \t bi=-0.50000 \t pi=-0.75000 \t f(p)=1.01036 \t error=0.25000\n",
      "i=2.0 \t ai=-1.00000 \t bi=-0.75000 \t pi=-0.87500 \t f(p)=0.41886 \t error=0.12500\n",
      "i=3.0 \t ai=-1.00000 \t bi=-0.87500 \t pi=-0.93750 \t f(p)=0.18982 \t error=0.06250\n",
      "i=4.0 \t ai=-1.00000 \t bi=-0.93750 \t pi=-0.96875 \t f(p)=0.08712 \t error=0.03125\n",
      "i=5.0 \t ai=-1.00000 \t bi=-0.96875 \t pi=-0.98438 \t f(p)=0.03829 \t error=0.01562\n",
      "i=6.0 \t ai=-1.00000 \t bi=-0.98438 \t pi=-0.99219 \t f(p)=0.01446 \t error=0.00781\n",
      "i=7.0 \t ai=-1.00000 \t bi=-0.99219 \t pi=-0.99609 \t f(p)=0.00268 \t error=0.00391\n",
      "i=8.0 \t ai=-1.00000 \t bi=-0.99609 \t pi=-0.99805 \t f(p)=-0.00317 \t error=0.00195\n",
      "i=9.0 \t ai=-0.99805 \t bi=-0.99609 \t pi=-0.99707 \t f(p)=-0.00025 \t error=0.00098\n",
      "i=10.0 \t ai=-0.99707 \t bi=-0.99609 \t pi=-0.99658 \t f(p)=0.00122 \t error=0.00049\n",
      "i=11.0 \t ai=-0.99707 \t bi=-0.99658 \t pi=-0.99683 \t f(p)=0.00048 \t error=0.00024\n",
      "i=12.0 \t ai=-0.99707 \t bi=-0.99683 \t pi=-0.99695 \t f(p)=0.00012 \t error=0.00012\n",
      "i=13.0 \t ai=-0.99707 \t bi=-0.99695 \t pi=-0.99701 \t f(p)=-0.00006 \t error=0.00006\n",
      "i=14.0 \t ai=-0.99701 \t bi=-0.99695 \t pi=-0.99698 \t f(p)=0.00003 \t error=0.00003\n",
      "i=15.0 \t ai=-0.99701 \t bi=-0.99698 \t pi=-0.99699 \t f(p)=-0.00002 \t error=0.00002\n",
      "i=16.0 \t ai=-0.99699 \t bi=-0.99698 \t pi=-0.99699 \t f(p)=0.00000 \t error=0.00001\n",
      "i=17.0 \t ai=-0.99699 \t bi=-0.99699 \t pi=-0.99699 \t f(p)=-0.00001 \t error=0.00000\n",
      "i=18.0 \t ai=-0.99699 \t bi=-0.99699 \t pi=-0.99699 \t f(p)=-0.00000 \t error=0.00000\n",
      "i=19.0 \t ai=-0.99699 \t bi=-0.99699 \t pi=-0.99699 \t f(p)=0.00000 \t error=0.00000\n",
      "i=20.0 \t ai=-0.99699 \t bi=-0.99699 \t pi=-0.99699 \t f(p)=0.00000 \t error=0.00000\n",
      "i=21.0 \t ai=-0.99699 \t bi=-0.99699 \t pi=-0.99699 \t f(p)=-0.00000 \t error=0.00000\n",
      "i=22.0 \t ai=-0.99699 \t bi=-0.99699 \t pi=-0.99699 \t f(p)=-0.00000 \t error=0.00000\n",
      "i=23.0 \t ai=-0.99699 \t bi=-0.99699 \t pi=-0.99699 \t f(p)=0.00000 \t error=0.00000\n",
      "i=24.0 \t ai=-0.99699 \t bi=-0.99699 \t pi=-0.99699 \t f(p)=0.00000 \t error=0.00000\n",
      "i=25.0 \t ai=-0.99699 \t bi=-0.99699 \t pi=-0.99699 \t f(p)=-0.00000 \t error=0.00000\n",
      "i=26.0 \t ai=-0.99699 \t bi=-0.99699 \t pi=-0.99699 \t f(p)=0.00000 \t error=0.00000\n"
     ]
    }
   ],
   "source": [
    "ai=a\n",
    "bi=b\n",
    " \n",
    "if(f(a)*f(b)<0):\n",
    " \n",
    "    while(error>Tol):\n",
    "        p=(bi+ai)*.5\n",
    "        p_prev=p\n",
    "        if(f(a)*f(p)<0):\n",
    "            bi=p\n",
    "            ai=ai\n",
    "        elif(f(b)*f(p)<0):\n",
    "            ai=p\n",
    "            bi=bi\n",
    "        i+=1\n",
    "        p=(bi+ai)*.5\n",
    "        error=abs(p-p_prev)\n",
    "    \n",
    "        print(\"i=%.1f \\t ai=%.5f \\t bi=%.5f \\t pi=%.5f \\t f(p)=%.5f \\t error=%.5f\" %(i,ai,bi,p,f(p),error)) # P es el cero (o la interseccion)\n",
    " \n",
    "        if(i>=Nmax):\n",
    "            print(\"Numero maximo de iteraciones excedido\")\n",
    "            break\n",
    "else:\n",
    "    print(\"Intervalo inadecuado\")"
   ]
  },
  {
   "cell_type": "markdown",
   "metadata": {},
   "source": [
    "# Se descarta por ser negativo"
   ]
  },
  {
   "cell_type": "code",
   "execution_count": 60,
   "metadata": {
    "collapsed": true
   },
   "outputs": [],
   "source": [
    "a=.5\n",
    "b=.99\n",
    "Nmax=1000 # Número máximo de iteraciones \n",
    "Tol=1.e-8  # Tolerancia, que no exeda el épsilon de la máquina\n",
    "error=1. # Error inicial\n",
    "i=0 "
   ]
  },
  {
   "cell_type": "code",
   "execution_count": 61,
   "metadata": {},
   "outputs": [
    {
     "name": "stdout",
     "output_type": "stream",
     "text": [
      "i=1.0 \t ai=0.74500 \t bi=0.99000 \t pi=0.86750 \t f(p)=0.23816 \t error=0.12250\n",
      "i=2.0 \t ai=0.74500 \t bi=0.86750 \t pi=0.80625 \t f(p)=-0.39399 \t error=0.06125\n",
      "i=3.0 \t ai=0.80625 \t bi=0.86750 \t pi=0.83687 \t f(p)=-0.12287 \t error=0.03063\n",
      "i=4.0 \t ai=0.83687 \t bi=0.86750 \t pi=0.85219 \t f(p)=0.04096 \t error=0.01531\n",
      "i=5.0 \t ai=0.83687 \t bi=0.85219 \t pi=0.84453 \t f(p)=-0.04424 \t error=0.00766\n",
      "i=6.0 \t ai=0.84453 \t bi=0.85219 \t pi=0.84836 \t f(p)=-0.00255 \t error=0.00383\n",
      "i=7.0 \t ai=0.84836 \t bi=0.85219 \t pi=0.85027 \t f(p)=0.01896 \t error=0.00191\n",
      "i=8.0 \t ai=0.84836 \t bi=0.85027 \t pi=0.84932 \t f(p)=0.00815 \t error=0.00096\n",
      "i=9.0 \t ai=0.84836 \t bi=0.84932 \t pi=0.84884 \t f(p)=0.00278 \t error=0.00048\n",
      "i=10.0 \t ai=0.84836 \t bi=0.84884 \t pi=0.84860 \t f(p)=0.00011 \t error=0.00024\n",
      "i=11.0 \t ai=0.84836 \t bi=0.84860 \t pi=0.84848 \t f(p)=-0.00122 \t error=0.00012\n",
      "i=12.0 \t ai=0.84848 \t bi=0.84860 \t pi=0.84854 \t f(p)=-0.00056 \t error=0.00006\n",
      "i=13.0 \t ai=0.84854 \t bi=0.84860 \t pi=0.84857 \t f(p)=-0.00022 \t error=0.00003\n",
      "i=14.0 \t ai=0.84857 \t bi=0.84860 \t pi=0.84858 \t f(p)=-0.00006 \t error=0.00001\n",
      "i=15.0 \t ai=0.84858 \t bi=0.84860 \t pi=0.84859 \t f(p)=0.00003 \t error=0.00001\n",
      "i=16.0 \t ai=0.84858 \t bi=0.84859 \t pi=0.84859 \t f(p)=-0.00001 \t error=0.00000\n",
      "i=17.0 \t ai=0.84859 \t bi=0.84859 \t pi=0.84859 \t f(p)=0.00001 \t error=0.00000\n",
      "i=18.0 \t ai=0.84859 \t bi=0.84859 \t pi=0.84859 \t f(p)=-0.00000 \t error=0.00000\n",
      "i=19.0 \t ai=0.84859 \t bi=0.84859 \t pi=0.84859 \t f(p)=0.00000 \t error=0.00000\n",
      "i=20.0 \t ai=0.84859 \t bi=0.84859 \t pi=0.84859 \t f(p)=-0.00000 \t error=0.00000\n",
      "i=21.0 \t ai=0.84859 \t bi=0.84859 \t pi=0.84859 \t f(p)=-0.00000 \t error=0.00000\n",
      "i=22.0 \t ai=0.84859 \t bi=0.84859 \t pi=0.84859 \t f(p)=0.00000 \t error=0.00000\n",
      "i=23.0 \t ai=0.84859 \t bi=0.84859 \t pi=0.84859 \t f(p)=-0.00000 \t error=0.00000\n",
      "i=24.0 \t ai=0.84859 \t bi=0.84859 \t pi=0.84859 \t f(p)=0.00000 \t error=0.00000\n",
      "i=25.0 \t ai=0.84859 \t bi=0.84859 \t pi=0.84859 \t f(p)=0.00000 \t error=0.00000\n"
     ]
    }
   ],
   "source": [
    "ai=a\n",
    "bi=b\n",
    " \n",
    "if(f(a)*f(b)<0):\n",
    " \n",
    "    while(error>Tol):\n",
    "        p=(bi+ai)*.5\n",
    "        p_prev=p\n",
    "        if(f(a)*f(p)<0):\n",
    "            bi=p\n",
    "            ai=ai\n",
    "        elif(f(b)*f(p)<0):\n",
    "            ai=p\n",
    "            bi=bi\n",
    "        i+=1\n",
    "        p=(bi+ai)*.5\n",
    "        error=abs(p-p_prev)\n",
    "    \n",
    "        print(\"i=%.1f \\t ai=%.5f \\t bi=%.5f \\t pi=%.5f \\t f(p)=%.5f \\t error=%.5f\" %(i,ai,bi,p,f(p),error)) # P es el cero (o la interseccion)\n",
    " \n",
    "        if(i>=Nmax):\n",
    "            print(\"Numero maximo de iteraciones excedido\")\n",
    "            break\n",
    "else:\n",
    "    print(\"Intervalo inadecuado\")"
   ]
  },
  {
   "cell_type": "code",
   "execution_count": 62,
   "metadata": {
    "collapsed": true
   },
   "outputs": [],
   "source": [
    "a=1.01\n",
    "b=1.5\n",
    "Nmax=1000 # Número máximo de iteraciones \n",
    "Tol=1.e-8  # Tolerancia, que no exeda el épsilon de la máquina\n",
    "error=1. # Error inicial\n",
    "i=0 "
   ]
  },
  {
   "cell_type": "code",
   "execution_count": 63,
   "metadata": {
    "scrolled": true
   },
   "outputs": [
    {
     "name": "stdout",
     "output_type": "stream",
     "text": [
      "i=1.0 \t ai=1.01000 \t bi=1.25500 \t pi=1.13250 \t f(p)=-0.32135 \t error=0.12250\n",
      "i=2.0 \t ai=1.13250 \t bi=1.25500 \t pi=1.19375 \t f(p)=0.18077 \t error=0.06125\n",
      "i=3.0 \t ai=1.13250 \t bi=1.19375 \t pi=1.16312 \t f(p)=-0.01814 \t error=0.03062\n",
      "i=4.0 \t ai=1.16312 \t bi=1.19375 \t pi=1.17844 \t f(p)=0.09010 \t error=0.01531\n",
      "i=5.0 \t ai=1.16312 \t bi=1.17844 \t pi=1.17078 \t f(p)=0.03856 \t error=0.00766\n",
      "i=6.0 \t ai=1.16312 \t bi=1.17078 \t pi=1.16695 \t f(p)=0.01091 \t error=0.00383\n",
      "i=7.0 \t ai=1.16312 \t bi=1.16695 \t pi=1.16504 \t f(p)=-0.00343 \t error=0.00191\n",
      "i=8.0 \t ai=1.16504 \t bi=1.16695 \t pi=1.16600 \t f(p)=0.00379 \t error=0.00096\n",
      "i=9.0 \t ai=1.16504 \t bi=1.16600 \t pi=1.16552 \t f(p)=0.00019 \t error=0.00048\n",
      "i=10.0 \t ai=1.16504 \t bi=1.16552 \t pi=1.16528 \t f(p)=-0.00162 \t error=0.00024\n",
      "i=11.0 \t ai=1.16528 \t bi=1.16552 \t pi=1.16540 \t f(p)=-0.00071 \t error=0.00012\n",
      "i=12.0 \t ai=1.16540 \t bi=1.16552 \t pi=1.16546 \t f(p)=-0.00026 \t error=0.00006\n",
      "i=13.0 \t ai=1.16546 \t bi=1.16552 \t pi=1.16549 \t f(p)=-0.00004 \t error=0.00003\n",
      "i=14.0 \t ai=1.16549 \t bi=1.16552 \t pi=1.16550 \t f(p)=0.00008 \t error=0.00001\n",
      "i=15.0 \t ai=1.16549 \t bi=1.16550 \t pi=1.16550 \t f(p)=0.00002 \t error=0.00001\n",
      "i=16.0 \t ai=1.16549 \t bi=1.16550 \t pi=1.16549 \t f(p)=-0.00001 \t error=0.00000\n",
      "i=17.0 \t ai=1.16549 \t bi=1.16550 \t pi=1.16549 \t f(p)=0.00001 \t error=0.00000\n",
      "i=18.0 \t ai=1.16549 \t bi=1.16549 \t pi=1.16549 \t f(p)=-0.00000 \t error=0.00000\n",
      "i=19.0 \t ai=1.16549 \t bi=1.16549 \t pi=1.16549 \t f(p)=0.00000 \t error=0.00000\n",
      "i=20.0 \t ai=1.16549 \t bi=1.16549 \t pi=1.16549 \t f(p)=0.00000 \t error=0.00000\n",
      "i=21.0 \t ai=1.16549 \t bi=1.16549 \t pi=1.16549 \t f(p)=-0.00000 \t error=0.00000\n",
      "i=22.0 \t ai=1.16549 \t bi=1.16549 \t pi=1.16549 \t f(p)=-0.00000 \t error=0.00000\n",
      "i=23.0 \t ai=1.16549 \t bi=1.16549 \t pi=1.16549 \t f(p)=0.00000 \t error=0.00000\n",
      "i=24.0 \t ai=1.16549 \t bi=1.16549 \t pi=1.16549 \t f(p)=0.00000 \t error=0.00000\n",
      "i=25.0 \t ai=1.16549 \t bi=1.16549 \t pi=1.16549 \t f(p)=0.00000 \t error=0.00000\n"
     ]
    }
   ],
   "source": [
    "ai=a\n",
    "bi=b\n",
    " \n",
    "if(f(a)*f(b)<0):\n",
    " \n",
    "    while(error>Tol):\n",
    "        p=(bi+ai)*.5\n",
    "        p_prev=p\n",
    "        if(f(a)*f(p)<0):\n",
    "            bi=p\n",
    "            ai=ai\n",
    "        elif(f(b)*f(p)<0):\n",
    "            ai=p\n",
    "            bi=bi\n",
    "        i+=1\n",
    "        p=(bi+ai)*.5\n",
    "        error=abs(p-p_prev)\n",
    "    \n",
    "        print(\"i=%.1f \\t ai=%.5f \\t bi=%.5f \\t pi=%.5f \\t f(p)=%.5f \\t error=%.5f\" %(i,ai,bi,p,f(p),error)) # P es el cero (o la interseccion)\n",
    " \n",
    "        if(i>=Nmax):\n",
    "            print(\"Numero maximo de iteraciones excedido\")\n",
    "            break\n",
    "else:\n",
    "    print(\"Intervalo inadecuado\")"
   ]
  },
  {
   "cell_type": "markdown",
   "metadata": {},
   "source": [
    "# Rtta/= hay ceros en x=1.16549,  0.84859 , -0.99699 uL\n",
    "# X= 448014.356, 326197.996 km "
   ]
  },
  {
   "cell_type": "code",
   "execution_count": null,
   "metadata": {
    "collapsed": true
   },
   "outputs": [],
   "source": []
  }
 ],
 "metadata": {
  "kernelspec": {
   "display_name": "Python 2",
   "language": "python",
   "name": "python2"
  },
  "language_info": {
   "codemirror_mode": {
    "name": "ipython",
    "version": 2
   },
   "file_extension": ".py",
   "mimetype": "text/x-python",
   "name": "python",
   "nbconvert_exporter": "python",
   "pygments_lexer": "ipython2",
   "version": "2.7.12"
  }
 },
 "nbformat": 4,
 "nbformat_minor": 2
}
