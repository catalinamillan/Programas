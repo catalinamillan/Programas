{
 "cells": [
  {
   "cell_type": "code",
   "execution_count": 1,
   "metadata": {},
   "outputs": [],
   "source": [
    "import numpy as np\n",
    "import matplotlib.pyplot as plt"
   ]
  },
  {
   "cell_type": "code",
   "execution_count": 2,
   "metadata": {},
   "outputs": [],
   "source": [
    "data = np.loadtxt(\"/home/catalina/Desktop/Programas/Parcial1/spectrum_data.dat\") # Carga el archivo como un arreglo de numeros\n",
    "L_desord=[data[i-1:i,0:1][0][0] for i in range(1,len(data)+1)] #Longitud de onda\n",
    "F_desord=[data[i-1:i,1:2][0][0] for i in range(1,len(data)+1)] #Flujo monocromatico\n",
    "\n",
    "x_list,y_list=zip(*sorted(zip(L_desord,F_desord)))\n",
    "\n",
    "#x_list=[300.,495.9,691.8,1500.]\n",
    "#y_list=[15.22,33.04,26.5,4.625]"
   ]
  },
  {
   "cell_type": "code",
   "execution_count": 3,
   "metadata": {},
   "outputs": [],
   "source": [
    "n = len(x_list)-1 #3/h[] n=3\n",
    "\n",
    "x = np.zeros(n+1)\n",
    "\n",
    "a = np.zeros(n+1)\n",
    "b = np.zeros(n+1)\n",
    "c = np.zeros(n+1)\n",
    "d = np.zeros(n+1)\n",
    "\n",
    "l  = np.zeros(n+1)\n",
    "mu = np.zeros(n+1)\n",
    "z  = np.zeros(n+1)\n",
    "\n",
    "va = np.zeros(n+1)\n",
    "\n",
    "h = np.zeros(n)\n",
    "\n",
    "\n",
    "for i in range(0,len(x)):\n",
    "    x[i] = x_list[i]\n",
    "    a[i] = y_list[i]\n",
    "\n",
    "#step 1\n",
    "\n",
    "for i in range(0,n):\n",
    "    h[i]=x[i+1]-x[i]\n",
    "\n",
    "#step 2\n",
    "\n",
    "for i in range(1,n):\n",
    "    va[i] = 3/h[i] * (a[i+1]-a[i]) - 3/h[i-1] * (a[i]-a[i-1])\n",
    "    \n",
    "#step 3, solucion del sistema de ecuaciones lineales\n",
    "\n",
    "\n",
    "l[0] = 1\n",
    "mu[0] = 0\n",
    "z[0] = 0\n",
    "\n",
    "for i in range(1,n):\n",
    "    l[i] = 2*(x[i+1]-x[i-1]) - h[i-1]*mu[i-1]\n",
    "    mu[i] = h[i]/l[i]\n",
    "    z[i] = (va[i]-h[i-1]*z[i-1])/l[i]\n",
    "        \n",
    "l[n] = 1\n",
    "z[n] = 0\n",
    "c[n] = 0\n",
    "\n",
    "for j in range(n-1,-1,-1):\n",
    "    c[j] = z[j]-mu[j]*c[j+1]\n",
    "    b[j] = (a[j+1]-a[j])/h[j] - h[j]*(c[j+1]+2*c[j])/3\n",
    "    d[j] = (c[j+1]-c[j])/(3*h[j])\n",
    "    \n",
    "\n",
    "#print(\"aj = \",a)\n",
    "#print(\"bj = \",b)\n",
    "#print(\"cj = \",c)\n",
    "#print(\"dj = \",d)\n",
    "    \n",
    "x_array = np.linspace(min(x_list),max(x_list),100)\n",
    "\n",
    "y_array = []"
   ]
  },
  {
   "cell_type": "markdown",
   "metadata": {},
   "source": [
    " ## a) \n",
    "\n",
    "Para los puntos (300.,15,22),(495.9,33.04),(691.8,26.5),(1500.0,4.625) se generan tres intervalos ya que los splines van hasta n-1, donde n es el número de datos.\n",
    "\n",
    "aj =  [15.22  33.04  26.5    4.625]\n",
    "\n",
    "bj =  [ 0.12298709  0.02692015 -0.05792648  0.        ]\n",
    "\n",
    "cj =  [ 0.00000000e+00 -4.90387684e-04  5.72757325e-05  0.00000000e+00]\n",
    "\n",
    "dj =  [-8.34418384e-07  9.31875815e-07 -2.36227553e-08  0.00000000e+00]\n",
    "\n",
    "## b) \n",
    "\n",
    "   En el subintervalo [300.0,495.9]\n",
    "\n",
    "$ s_0= 15.22 + .12298709(x-300.) +0(x-300.)^2 - 8.34418384e-07(x-300.)^3 $\n",
    "  \n",
    "   En el subintervalo [495.9,691.8]\n",
    "   \n",
    "$ s_1= 33.04 + 0.02692015(x-495.9) - 4.90387684e-04(x-495.9)^2 - 9.31875815e-07(x-495.9)^3 $\n",
    "\n",
    "   En el subintervalo [691.8,1500.]\n",
    "   \n",
    "$ s_2= 26.5  - 0.05792648(x-691.8) + 5.72757325e-05(x-691.8)^2 - 2.36227553e-08(x-691.8)^3 $\n"
   ]
  },
  {
   "cell_type": "markdown",
   "metadata": {},
   "source": [
    "## b) Gráfica"
   ]
  },
  {
   "cell_type": "code",
   "execution_count": 4,
   "metadata": {},
   "outputs": [
    {
     "data": {
      "image/png": "[encoded data removed]",
      "text/plain": [
       "<Figure size 720x360 with 1 Axes>"
      ]
     },
     "metadata": {
      "needs_background": "light"
     },
     "output_type": "display_data"
    }
   ],
   "source": [
    "for i in range(0,len(x_array)):\n",
    "    for j in range(0,n):\n",
    "        if x[j]<=x_array[i]<x[j+1]:\n",
    "            s = a[j]+b[j]*(x_array[i]-x[j]) + c[j]*(x_array[i]-x[j])**2 + d[j]*(x_array[i]-x[j])**3\n",
    "            y_array.append(s)\n",
    "    if x_array[i]==x[n]:\n",
    "        s = a[n]+b[n]*(x_array[i]-x[n]) + c[n]*(x_array[i]-x[n])**2 + d[n]*(x_array[i]-x[n])**3\n",
    "        y_array.append(s)\n",
    "\n",
    "    \n",
    "\n",
    "fig=plt.figure(figsize=(10,5))\n",
    "ax=plt.axes()\n",
    "plt.title('Flujo Solar', fontsize=20)\n",
    "ax.grid()\n",
    "ax.plot(x_list,y_list,'.')\n",
    "\n",
    "x2_list=[300.,495.9,691.8,1500.]\n",
    "y2_list=[15.22,33.04,26.5,4.625]\n",
    "\n",
    "ax.plot(x2_list,y2_list,'o',markersize= 10)\n",
    "ax.plot(x_array,y_array)\n",
    "plt.xlabel('Longitud de Onda')\n",
    "plt.ylabel('Flujo monocromatico')\n",
    "plt.show()"
   ]
  },
  {
   "cell_type": "code",
   "execution_count": null,
   "metadata": {},
   "outputs": [],
   "source": []
  }
 ],
 "metadata": {
  "kernelspec": {
   "display_name": "Python 3",
   "language": "python",
   "name": "python3"
  },
  "language_info": {
   "codemirror_mode": {
    "name": "ipython",
    "version": 3
   },
   "file_extension": ".py",
   "mimetype": "text/x-python",
   "name": "python",
   "nbconvert_exporter": "python",
   "pygments_lexer": "ipython3",
   "version": "3.6.6"
  }
 },
 "nbformat": 4,
 "nbformat_minor": 2
}
