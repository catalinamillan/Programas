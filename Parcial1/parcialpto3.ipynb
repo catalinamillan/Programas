{
 "cells": [
  {
   "cell_type": "markdown",
   "metadata": {},
   "source": [
    "## Pto 3 Catalina Millan"
   ]
  },
  {
   "cell_type": "code",
   "execution_count": 1,
   "metadata": {},
   "outputs": [],
   "source": [
    "import numpy as np\n",
    "import matplotlib.pyplot as plt"
   ]
  },
  {
   "cell_type": "code",
   "execution_count": 8,
   "metadata": {},
   "outputs": [],
   "source": [
    "data = np.loadtxt(\"/home/catalina/Desktop/Programas/stellar_radius.dat\") # Carga el archivo como un arreglo de numeros\n",
    "t_desord=[data[i-1:i,0:1][0][0] for i in range(1,len(data)+1)]\n",
    "R_desord=[data[i-1:i,1:2][0][0] for i in range(1,len(data)+1)]\n",
    "\n",
    "x_list,y_list=zip(*sorted(zip(t_desord,R_desord)))"
   ]
  },
  {
   "cell_type": "code",
   "execution_count": 9,
   "metadata": {},
   "outputs": [],
   "source": [
    "n = len(x_list)-1 #3/h[] n=3\n",
    "\n",
    "x = np.zeros(n+1)\n",
    "\n",
    "a = np.zeros(n+1)\n",
    "b = np.zeros(n+1)\n",
    "c = np.zeros(n+1)\n",
    "d = np.zeros(n+1)\n",
    "\n",
    "l  = np.zeros(n+1)\n",
    "mu = np.zeros(n+1)\n",
    "z  = np.zeros(n+1)\n",
    "\n",
    "va = np.zeros(n+1)\n",
    "\n",
    "h = np.zeros(n)\n",
    "\n",
    "\n",
    "for i in range(0,len(x)):\n",
    "    x[i] = x_list[i]\n",
    "    a[i] = y_list[i]\n",
    "\n",
    "#step 1\n",
    "\n",
    "for i in range(0,n):\n",
    "    h[i]=x[i+1]-x[i]\n",
    "\n",
    "#step 2\n",
    "\n",
    "for i in range(1,n):\n",
    "    va[i] = 3/h[i] * (a[i+1]-a[i]) - 3/h[i-1] * (a[i]-a[i-1])\n",
    "    \n",
    "#step 3, solucion del sistema de ecuaciones lineales\n",
    "\n",
    "\n",
    "l[0] = 1\n",
    "mu[0] = 0\n",
    "z[0] = 0\n",
    "\n",
    "for i in range(1,n):\n",
    "    l[i] = 2*(x[i+1]-x[i-1]) - h[i-1]*mu[i-1]\n",
    "    mu[i] = h[i]/l[i]\n",
    "    z[i] = (va[i]-h[i-1]*z[i-1])/l[i]\n",
    "        \n",
    "l[n] = 1\n",
    "z[n] = 0\n",
    "c[n] = 0\n",
    "\n",
    "for j in range(n-1,-1,-1):\n",
    "    c[j] = z[j]-mu[j]*c[j+1]\n",
    "    b[j] = (a[j+1]-a[j])/h[j] - h[j]*(c[j+1]+2*c[j])/3\n",
    "    d[j] = (c[j+1]-c[j])/(3*h[j])\n",
    "    \n",
    "\n",
    "#print(\"aj = \",a)\n",
    "#print(\"bj = \",b)\n",
    "#print(\"cj = \",c)\n",
    "#print(\"dj = \",d)\n",
    "    "
   ]
  },
  {
   "cell_type": "code",
   "execution_count": 10,
   "metadata": {},
   "outputs": [
    {
     "name": "stdout",
     "output_type": "stream",
     "text": [
      "5000\n",
      "5000\n"
     ]
    },
    {
     "data": {
      "image/png": "[encoded data removed]",
      "text/plain": [
       "<Figure size 432x288 with 1 Axes>"
      ]
     },
     "metadata": {
      "needs_background": "light"
     },
     "output_type": "display_data"
    }
   ],
   "source": [
    "x_array = np.linspace(min(x_list),max(x_list),5000)\n",
    "y_array = []\n",
    "\n",
    "for i in range(0,len(x_array)):\n",
    "    for j in range(0,n):\n",
    "        if x[j]<=x_array[i]<x[j+1]:\n",
    "            s = a[j]+b[j]*(x_array[i]-x[j]) + c[j]*(x_array[i]-x[j])**2 + d[j]*(x_array[i]-x[j])**3\n",
    "            y_array.append(s)\n",
    "    if x_array[i]==x[n]:\n",
    "        s = a[n]+b[n]*(x_array[i]-x[n]) + c[n]*(x_array[i]-x[n])**2 + d[n]*(x_array[i]-x[n])**3\n",
    "        y_array.append(s)\n",
    "\n",
    "print(len(y_array))\n",
    "print(len(x_array))\n",
    "fig=plt.figure()\n",
    "ax=plt.axes()\n",
    "plt.xscale('log')\n",
    "ax.plot(x_list,y_list,'+')\n",
    "ax.plot(x_array,y_array)\n",
    "plt.show()"
   ]
  },
  {
   "cell_type": "code",
   "execution_count": null,
   "metadata": {
    "collapsed": true
   },
   "outputs": [],
   "source": []
  }
 ],
 "metadata": {
  "kernelspec": {
   "display_name": "Python 2",
   "language": "python",
   "name": "python2"
  },
  "language_info": {
   "codemirror_mode": {
    "name": "ipython",
    "version": 2
   },
   "file_extension": ".py",
   "mimetype": "text/x-python",
   "name": "python",
   "nbconvert_exporter": "python",
   "pygments_lexer": "ipython2",
   "version": "2.7.12"
  }
 },
 "nbformat": 4,
 "nbformat_minor": 2
}
