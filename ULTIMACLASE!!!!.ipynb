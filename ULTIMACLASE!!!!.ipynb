{
 "cells": [
  {
   "cell_type": "code",
   "execution_count": 1,
   "metadata": {},
   "outputs": [],
   "source": [
    "import numpy as np"
   ]
  },
  {
   "cell_type": "code",
   "execution_count": 7,
   "metadata": {},
   "outputs": [],
   "source": [
    "f = lambda rj: sum(i for i in rj)**2"
   ]
  },
  {
   "cell_type": "code",
   "execution_count": 16,
   "metadata": {},
   "outputs": [],
   "source": [
    "def MC(f):\n",
    "    sum_1=0\n",
    "    sum_2=0\n",
    "    for M in range(1000000):\n",
    "        rj=np.random.rand(10)\n",
    "        sum_1+=f(rj)\n",
    "        \n",
    "        sum_2+=f(rj)**2\n",
    "        \n",
    "    f_prom=sum_1/M\n",
    "    f_prom2=sum_2/M\n",
    "    \n",
    "    error=((f_prom**2+f_prom2)/M)**.5\n",
    "    return (f_prom,error)"
   ]
  },
  {
   "cell_type": "code",
   "execution_count": 17,
   "metadata": {},
   "outputs": [
    {
     "data": {
      "text/plain": [
       "(25.834106009267746, 0.03767535653922904)"
      ]
     },
     "execution_count": 17,
     "metadata": {},
     "output_type": "execute_result"
    }
   ],
   "source": [
    "MC(f)"
   ]
  },
  {
   "cell_type": "raw",
   "metadata": {},
   "source": [
    "serie de numeros aleatorios entre a y b X=A+(B-A)*y (y es rand(0,1)"
   ]
  }
 ],
 "metadata": {
  "kernelspec": {
   "display_name": "Python 3",
   "language": "python",
   "name": "python3"
  },
  "language_info": {
   "codemirror_mode": {
    "name": "ipython",
    "version": 3
   },
   "file_extension": ".py",
   "mimetype": "text/x-python",
   "name": "python",
   "nbconvert_exporter": "python",
   "pygments_lexer": "ipython3",
   "version": "3.6.8"
  }
 },
 "nbformat": 4,
 "nbformat_minor": 2
}
