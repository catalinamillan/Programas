{
 "cells": [
  {
   "cell_type": "code",
   "execution_count": 17,
   "metadata": {},
   "outputs": [],
   "source": [
    "import numpy as np\n",
    "import matplotlib.pyplot as plt\n",
    "import matplotlib as mpl\n",
    "\n",
    "from mpl_toolkits.mplot3d import Axes3D"
   ]
  },
  {
   "cell_type": "code",
   "execution_count": 49,
   "metadata": {},
   "outputs": [
    {
     "ename": "TypeError",
     "evalue": "'float' object cannot be interpreted as an integer",
     "output_type": "error",
     "traceback": [
      "\u001b[0;31m---------------------------------------------------------------------------\u001b[0m",
      "\u001b[0;31mTypeError\u001b[0m                                 Traceback (most recent call last)",
      "\u001b[0;32m<ipython-input-49-6c94a6d2433d>\u001b[0m in \u001b[0;36m<module>\u001b[0;34m\u001b[0m\n\u001b[1;32m     32\u001b[0m \u001b[0;34m\u001b[0m\u001b[0m\n\u001b[1;32m     33\u001b[0m \u001b[0;31m#Solución\u001b[0m\u001b[0;34m\u001b[0m\u001b[0;34m\u001b[0m\u001b[0;34m\u001b[0m\u001b[0m\n\u001b[0;32m---> 34\u001b[0;31m \u001b[0msol\u001b[0m\u001b[0;34m=\u001b[0m\u001b[0mnp\u001b[0m\u001b[0;34m.\u001b[0m\u001b[0mzeros\u001b[0m\u001b[0;34m(\u001b[0m\u001b[0;34m(\u001b[0m\u001b[0mN\u001b[0m\u001b[0;34m,\u001b[0m\u001b[0;36m4\u001b[0m\u001b[0;34m)\u001b[0m\u001b[0;34m)\u001b[0m\u001b[0;34m\u001b[0m\u001b[0;34m\u001b[0m\u001b[0m\n\u001b[0m\u001b[1;32m     35\u001b[0m \u001b[0msol\u001b[0m\u001b[0;34m[\u001b[0m\u001b[0;36m0\u001b[0m\u001b[0;34m]\u001b[0m\u001b[0;34m[\u001b[0m\u001b[0;36m0\u001b[0m\u001b[0;34m]\u001b[0m\u001b[0;34m=\u001b[0m\u001b[0mt_array\u001b[0m\u001b[0;34m[\u001b[0m\u001b[0;36m0\u001b[0m\u001b[0;34m]\u001b[0m\u001b[0;34m\u001b[0m\u001b[0;34m\u001b[0m\u001b[0m\n\u001b[1;32m     36\u001b[0m \u001b[0msol\u001b[0m\u001b[0;34m[\u001b[0m\u001b[0;36m0\u001b[0m\u001b[0;34m]\u001b[0m\u001b[0;34m[\u001b[0m\u001b[0;36m1\u001b[0m\u001b[0;34m]\u001b[0m\u001b[0;34m=\u001b[0m\u001b[0my0\u001b[0m\u001b[0;34m[\u001b[0m\u001b[0;36m0\u001b[0m\u001b[0;34m]\u001b[0m\u001b[0;34m\u001b[0m\u001b[0;34m\u001b[0m\u001b[0m\n",
      "\u001b[0;31mTypeError\u001b[0m: 'float' object cannot be interpreted as an integer"
     ]
    }
   ],
   "source": [
    "#Condición inicial\n",
    "y0=[1,1,1]\n",
    "\n",
    "#Intérvalo de solución\n",
    "t_ini=0.\n",
    "t_end=40.\n",
    "\n",
    "\n",
    "def func(t,y):\n",
    "\n",
    "    dxdt = 10*(y[1]-y[0])\n",
    "    dydt = y[0]*(28-y[2])-y[1]\n",
    "    dzdt = y[0]*y[1]-2.667*y[2]\n",
    "\n",
    "    return np.array([dxdt,dydt,dzdt])\n",
    "\n",
    "\n",
    "#Construyo vector de tiempo para la solución\n",
    "\n",
    "\n",
    "\n",
    "def rk4(func,t,y,h):\n",
    "    k1=func(t,y)\n",
    "    k2=func(t+0.5*h , y+0.5*h*k1)\n",
    "    k3=func(t+0.5*h , y+0.5*h*k2)\n",
    "    k4=func(t+h,y+h*k3)\n",
    "    \n",
    "    value=y+h/6*(k1+2*k2+2*k3+k4)\n",
    "    \n",
    "    return value\n",
    "    \n",
    "\n",
    "#Solución\n",
    "sol=np.zeros((N,4))\n",
    "sol[0][0]=t_array[0]\n",
    "sol[0][1]=y0[0]\n",
    "sol[0][2]=y0[1]\n",
    "sol[0][3]=y0[2]\n",
    "\n",
    "for h in (1,.1,.01):\n",
    "\n",
    "    N=int((t_end-t_ini)/h)\n",
    "    \n",
    "    t_array=[]\n",
    "    \n",
    "    for i in range(0,N+1):\n",
    "        ti=t_ini+i*h\n",
    "        t_array.append(ti)\n",
    "        \n",
    "    for i in range(1,int(N)):\n",
    "        sol[i][0]=t_array[i]\n",
    "        sol[i][1]=rk4(func,sol[i-1][0],[sol[i-1][1],sol[i-1][2],sol[i-1][3]],h)[0]\n",
    "        sol[i][2]=rk4(func,sol[i-1][0],[sol[i-1][1],sol[i-1][2],sol[i-1][3]],h)[1]\n",
    "        sol[i][3]=rk4(func,sol[i-1][0],[sol[i-1][1],sol[i-1][2],sol[i-1][3]],h)[2]\n",
    "    \n",
    "    \n",
    "    plt.rcParams['legend.fontsize'] = 10\n",
    "    fig = plt.figure(h,figsize=(12,7))\n",
    "    ax = fig.gca(projection='3d')\n",
    "\n",
    "    # Prepare arrays x, y, z\n",
    "    x = sol[:,1]\n",
    "    y = sol[:,2]\n",
    "    z = sol[:,3]\n",
    "\n",
    "    ax.plot(x, y, z, label='parametric curve')\n",
    "    ax.set_xlabel(\"X Axis\") \n",
    "    ax.set_ylabel(\"Y Axis\") \n",
    "    ax.set_zlabel(\"Z Axis\")\n",
    "    ax.set_title(\"Lorenz Attractor\")\n",
    "    ax.legend()\n",
    "\n",
    "    plt.show()"
   ]
  },
  {
   "cell_type": "code",
   "execution_count": null,
   "metadata": {},
   "outputs": [],
   "source": []
  },
  {
   "cell_type": "code",
   "execution_count": null,
   "metadata": {},
   "outputs": [],
   "source": []
  }
 ],
 "metadata": {
  "kernelspec": {
   "display_name": "Python 3",
   "language": "python",
   "name": "python3"
  },
  "language_info": {
   "codemirror_mode": {
    "name": "ipython",
    "version": 3
   },
   "file_extension": ".py",
   "mimetype": "text/x-python",
   "name": "python",
   "nbconvert_exporter": "python",
   "pygments_lexer": "ipython3",
   "version": "3.6.8"
  }
 },
 "nbformat": 4,
 "nbformat_minor": 2
}
