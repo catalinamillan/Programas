{
 "cells": [
  {
   "cell_type": "code",
   "execution_count": 1,
   "metadata": {},
   "outputs": [],
   "source": [
    "import numpy as np"
   ]
  },
  {
   "cell_type": "code",
   "execution_count": 3,
   "metadata": {},
   "outputs": [],
   "source": [
    "#Condición inicial\n",
    "y0=0.5\n",
    "\n",
    "#Intérvalo de solución\n",
    "t_ini=0.0\n",
    "t_end=2.0\n",
    "\n",
    "#Número de puntos en los que se encontrará la solución (no incluye IC)\n",
    "N=10\n",
    "\n",
    "#Tamaño de paso\n",
    "h=(t_end-t_ini)/N\n",
    "\n",
    "#Defino la función de fuerza\n",
    "def func(t,y):\n",
    "    value=y-t**2+1\n",
    "    return value\n",
    "\n",
    "#Construyo vector de tiempo para la solución\n",
    "t_array=[]\n",
    "for i in range(0,N+1):\n",
    "    ti=t_ini+i*h\n",
    "    t_array.append(ti)\n",
    "\n",
    "\n",
    "def rk4(func,t,y):\n",
    "    k1=func(t,y)\n",
    "    k2=func(t+0.5*h , y+0.5*h*k1)\n",
    "    k3=func(t+0.5*h , y+0.5*h*k2)\n",
    "    k4=func(t+h,y+h*k3)\n",
    "    \n",
    "    value=y+h/6*(k1+2*k2+2*k3+k4)\n",
    "    \n",
    "    return value\n",
    "    \n",
    "\n",
    "#Solución\n",
    "sol=np.zeros((N+1,2))\n",
    "sol[0][0]=t_array[0]\n",
    "sol[0][1]=y0\n",
    "for i in range(1,N+1):\n",
    "    sol[i][0]=t_array[i]\n",
    "    sol[i][1]=rk4(func,sol[i-1][0],sol[i-1][1])\n",
    "    \n",
    "print(sol)"
   ]
  },
  {
   "cell_type": "code",
   "execution_count": null,
   "metadata": {},
   "outputs": [],
   "source": [
    "  w1=ini[0]\n",
    "    w2=ini[1]\n",
    "    w3=ini[2]\n",
    "    \n",
    "    k=np.zeros((4,4))\n",
    "    \n",
    "    for j in range(3):\n",
    "        \n",
    "        k[0][j]=func1(t,ini[0],ini[1],ini[2])\n",
    "        k[1][j]=func1(t+0.5*h , ini[0] +.5*k[0][0], ini[1]+.5*k[0][1], ini[2]+.5*k[0][2])\n",
    "        k[2][j]=func1(t+0.5*h , ini[0] +.5*k[1][0], ini[1]+.5*k[1][1], ini[2]+.5*k[1][2])\n",
    "        k[3][j]=func1(t+h , ini[0] +.5*k[2][0], ini[1]+.5*k[2][1], ini[2]+.5*k[2][2])\n",
    "    \n",
    "    \n",
    "    #value=y+h/6*(k1+2*k2+2*k3+k4)\n",
    "    \n",
    "    w1+=(k11+2*k21+2*k31+k41)/6\n",
    "    w2+=(k11+2*k22+2*k32+k42)/6\n",
    "    w3+=(k11+2*k23+2*k33+k43)/6\n",
    "    "
   ]
  }
 ],
 "metadata": {
  "kernelspec": {
   "display_name": "Python 3",
   "language": "python",
   "name": "python3"
  },
  "language_info": {
   "codemirror_mode": {
    "name": "ipython",
    "version": 3
   },
   "file_extension": ".py",
   "mimetype": "text/x-python",
   "name": "python",
   "nbconvert_exporter": "python",
   "pygments_lexer": "ipython3",
   "version": "3.6.8"
  }
 },
 "nbformat": 4,
 "nbformat_minor": 2
}
