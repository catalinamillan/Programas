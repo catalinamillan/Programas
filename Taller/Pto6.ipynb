{
 "cells": [
  {
   "cell_type": "markdown",
   "metadata": {},
   "source": [
    "## P 6.\n",
    "\n",
    "$$ \\frac{d\\theta}{dt}=\\omega $$\n",
    "\n",
    "$$ x(t)=-\\frac{g}{2\\omega²}(\\frac{et\\omega⁻e⁻t\\omega}{2}-\\sin t\\omega)$$\n"
   ]
  },
  {
   "cell_type": "code",
   "execution_count": 18,
   "metadata": {},
   "outputs": [],
   "source": [
    "import numpy as np \n",
    "import matplotlib.pyplot as plt "
   ]
  },
  {
   "cell_type": "code",
   "execution_count": 24,
   "metadata": {},
   "outputs": [],
   "source": [
    "g=32.17\n",
    "\n",
    "def f(w):\n",
    "    W=-g/(2*w**2)*((np.e**(w)-np.e**(-w))/2-np.sin(w))-1.7\n",
    "    return W"
   ]
  },
  {
   "cell_type": "code",
   "execution_count": 33,
   "metadata": {},
   "outputs": [],
   "source": [
    "a=-6\n",
    "b=5\n",
    "Nmax=1000 # Número máximo de iteraciones \n",
    "Tol=1.e-5  # Tolerancia, que no exeda el épsilon de la máquina\n",
    "error=1. # Error inicial\n",
    "i=0 # iteracion"
   ]
  },
  {
   "cell_type": "code",
   "execution_count": 34,
   "metadata": {},
   "outputs": [
    {
     "name": "stdout",
     "output_type": "stream",
     "text": [
      "i=1.0 \t ai=-0.50000 \t bi=5.00000 \t pi=2.25000 \t f(p)=-14.13301 \t error=2.75000\n",
      "i=2.0 \t ai=-0.50000 \t bi=2.25000 \t pi=0.87500 \t f(p)=-6.39473 \t error=1.37500\n",
      "i=3.0 \t ai=-0.50000 \t bi=0.87500 \t pi=0.18750 \t f(p)=-2.70531 \t error=0.68750\n",
      "i=4.0 \t ai=-0.50000 \t bi=0.18750 \t pi=-0.15625 \t f(p)=-0.86224 \t error=0.34375\n",
      "i=5.0 \t ai=-0.50000 \t bi=-0.15625 \t pi=-0.32812 \t f(p)=0.05932 \t error=0.17188\n",
      "i=6.0 \t ai=-0.32812 \t bi=-0.15625 \t pi=-0.24219 \t f(p)=-0.40147 \t error=0.08594\n",
      "i=7.0 \t ai=-0.32812 \t bi=-0.24219 \t pi=-0.28516 \t f(p)=-0.17108 \t error=0.04297\n",
      "i=8.0 \t ai=-0.32812 \t bi=-0.28516 \t pi=-0.30664 \t f(p)=-0.05588 \t error=0.02148\n",
      "i=9.0 \t ai=-0.32812 \t bi=-0.30664 \t pi=-0.31738 \t f(p)=0.00172 \t error=0.01074\n",
      "i=10.0 \t ai=-0.31738 \t bi=-0.30664 \t pi=-0.31201 \t f(p)=-0.02708 \t error=0.00537\n",
      "i=11.0 \t ai=-0.31738 \t bi=-0.31201 \t pi=-0.31470 \t f(p)=-0.01268 \t error=0.00269\n",
      "i=12.0 \t ai=-0.31738 \t bi=-0.31470 \t pi=-0.31604 \t f(p)=-0.00548 \t error=0.00134\n",
      "i=13.0 \t ai=-0.31738 \t bi=-0.31604 \t pi=-0.31671 \t f(p)=-0.00188 \t error=0.00067\n",
      "i=14.0 \t ai=-0.31738 \t bi=-0.31671 \t pi=-0.31705 \t f(p)=-0.00008 \t error=0.00034\n",
      "i=15.0 \t ai=-0.31738 \t bi=-0.31705 \t pi=-0.31721 \t f(p)=0.00082 \t error=0.00017\n",
      "i=16.0 \t ai=-0.31721 \t bi=-0.31705 \t pi=-0.31713 \t f(p)=0.00037 \t error=0.00008\n",
      "i=17.0 \t ai=-0.31713 \t bi=-0.31705 \t pi=-0.31709 \t f(p)=0.00015 \t error=0.00004\n",
      "i=18.0 \t ai=-0.31709 \t bi=-0.31705 \t pi=-0.31707 \t f(p)=0.00003 \t error=0.00002\n",
      "i=19.0 \t ai=-0.31707 \t bi=-0.31705 \t pi=-0.31706 \t f(p)=-0.00002 \t error=0.00001\n",
      "i=20.0 \t ai=-0.31707 \t bi=-0.31706 \t pi=-0.31706 \t f(p)=0.00001 \t error=0.00001\n"
     ]
    }
   ],
   "source": [
    "ai=a\n",
    "bi=b\n",
    " \n",
    "if(f(a)*f(b)<0):\n",
    " \n",
    "    while(error>Tol):\n",
    "        p=(bi+ai)*.5\n",
    "        p_prev=p\n",
    "        if(f(a)*f(p)<0):\n",
    "            bi=p\n",
    "            ai=ai\n",
    "        elif(f(b)*f(p)<0):\n",
    "            ai=p\n",
    "            bi=bi\n",
    "        i+=1\n",
    "        p=(bi+ai)*.5\n",
    "        error=abs(p-p_prev)\n",
    "    \n",
    "        print(\"i=%.1f \\t ai=%.5f \\t bi=%.5f \\t pi=%.5f \\t f(p)=%.5f \\t error=%.5f\" %(i,ai,bi,p,f(p),error)) # P es el cero (o la interseccion)\n",
    " \n",
    "        if(i>=Nmax):\n",
    "            print(\"Numero maximo de iteraciones excedido\")\n",
    "            break\n",
    "else:\n",
    "    print(\"Intervalo inadecuado\")"
   ]
  },
  {
   "cell_type": "code",
   "execution_count": null,
   "metadata": {},
   "outputs": [],
   "source": []
  }
 ],
 "metadata": {
  "kernelspec": {
   "display_name": "Python 3",
   "language": "python",
   "name": "python3"
  },
  "language_info": {
   "codemirror_mode": {
    "name": "ipython",
    "version": 3
   },
   "file_extension": ".py",
   "mimetype": "text/x-python",
   "name": "python",
   "nbconvert_exporter": "python",
   "pygments_lexer": "ipython3",
   "version": "3.6.6"
  }
 },
 "nbformat": 4,
 "nbformat_minor": 2
}
