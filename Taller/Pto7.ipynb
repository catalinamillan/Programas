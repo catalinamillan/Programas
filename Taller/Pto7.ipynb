{
 "cells": [
  {
   "cell_type": "code",
   "execution_count": 32,
   "metadata": {},
   "outputs": [],
   "source": [
    "import numpy as np"
   ]
  },
  {
   "cell_type": "code",
   "execution_count": 33,
   "metadata": {},
   "outputs": [],
   "source": [
    "l=89\n",
    "h=49\n",
    "D=55\n",
    "b1=np.radians(11.5)\n",
    "\n",
    "A=l*np.sin(b1)\n",
    "B=l*np.cos(b1)\n",
    "C=(h+.5*D)*np.sin(b1)-.5*D*np.tan(b1)\n",
    "E=(h-.5*D)*np.cos(b1)-.5*D"
   ]
  },
  {
   "cell_type": "code",
   "execution_count": 34,
   "metadata": {},
   "outputs": [],
   "source": [
    "def f(a):\n",
    "    al=np.radians(a)\n",
    "    y=A*np.sin(al)*np.cos(al)+B*np.sin(al)**2-C*np.cos(al)-E*np.sin(al)\n",
    "    return y"
   ]
  },
  {
   "cell_type": "code",
   "execution_count": 35,
   "metadata": {},
   "outputs": [],
   "source": [
    "a=11\n",
    "b=13\n",
    "Nmax=1000 # Número máximo de iteraciones \n",
    "Tol=1.e-8  # Tolerancia, que no exeda el épsilon de la máquina\n",
    "error=1. # Error inicial\n",
    "i=0"
   ]
  },
  {
   "cell_type": "code",
   "execution_count": 36,
   "metadata": {},
   "outputs": [
    {
     "name": "stdout",
     "output_type": "stream",
     "text": [
      "i=1.0 \t ai=12.00000 \t bi=13.00000 \t pi=12.50000 \t f(p)=-0.20073 \t error=0.50000\n",
      "i=2.0 \t ai=12.50000 \t bi=13.00000 \t pi=12.75000 \t f(p)=0.06821 \t error=0.25000\n",
      "i=3.0 \t ai=12.50000 \t bi=12.75000 \t pi=12.62500 \t f(p)=-0.06662 \t error=0.12500\n",
      "i=4.0 \t ai=12.62500 \t bi=12.75000 \t pi=12.68750 \t f(p)=0.00071 \t error=0.06250\n",
      "i=5.0 \t ai=12.62500 \t bi=12.68750 \t pi=12.65625 \t f(p)=-0.03298 \t error=0.03125\n",
      "i=6.0 \t ai=12.65625 \t bi=12.68750 \t pi=12.67188 \t f(p)=-0.01614 \t error=0.01562\n",
      "i=7.0 \t ai=12.67188 \t bi=12.68750 \t pi=12.67969 \t f(p)=-0.00772 \t error=0.00781\n",
      "i=8.0 \t ai=12.67969 \t bi=12.68750 \t pi=12.68359 \t f(p)=-0.00350 \t error=0.00391\n",
      "i=9.0 \t ai=12.68359 \t bi=12.68750 \t pi=12.68555 \t f(p)=-0.00140 \t error=0.00195\n",
      "i=10.0 \t ai=12.68555 \t bi=12.68750 \t pi=12.68652 \t f(p)=-0.00034 \t error=0.00098\n",
      "i=11.0 \t ai=12.68652 \t bi=12.68750 \t pi=12.68701 \t f(p)=0.00018 \t error=0.00049\n",
      "i=12.0 \t ai=12.68652 \t bi=12.68701 \t pi=12.68677 \t f(p)=-0.00008 \t error=0.00024\n",
      "i=13.0 \t ai=12.68677 \t bi=12.68701 \t pi=12.68689 \t f(p)=0.00005 \t error=0.00012\n",
      "i=14.0 \t ai=12.68677 \t bi=12.68689 \t pi=12.68683 \t f(p)=-0.00001 \t error=0.00006\n",
      "i=15.0 \t ai=12.68683 \t bi=12.68689 \t pi=12.68686 \t f(p)=0.00002 \t error=0.00003\n",
      "i=16.0 \t ai=12.68683 \t bi=12.68686 \t pi=12.68684 \t f(p)=0.00000 \t error=0.00002\n",
      "i=17.0 \t ai=12.68683 \t bi=12.68684 \t pi=12.68684 \t f(p)=-0.00001 \t error=0.00001\n",
      "i=18.0 \t ai=12.68684 \t bi=12.68684 \t pi=12.68684 \t f(p)=-0.00000 \t error=0.00000\n",
      "i=19.0 \t ai=12.68684 \t bi=12.68684 \t pi=12.68684 \t f(p)=-0.00000 \t error=0.00000\n",
      "i=20.0 \t ai=12.68684 \t bi=12.68684 \t pi=12.68684 \t f(p)=0.00000 \t error=0.00000\n",
      "i=21.0 \t ai=12.68684 \t bi=12.68684 \t pi=12.68684 \t f(p)=0.00000 \t error=0.00000\n",
      "i=22.0 \t ai=12.68684 \t bi=12.68684 \t pi=12.68684 \t f(p)=-0.00000 \t error=0.00000\n",
      "i=23.0 \t ai=12.68684 \t bi=12.68684 \t pi=12.68684 \t f(p)=0.00000 \t error=0.00000\n",
      "i=24.0 \t ai=12.68684 \t bi=12.68684 \t pi=12.68684 \t f(p)=-0.00000 \t error=0.00000\n",
      "i=25.0 \t ai=12.68684 \t bi=12.68684 \t pi=12.68684 \t f(p)=0.00000 \t error=0.00000\n",
      "i=26.0 \t ai=12.68684 \t bi=12.68684 \t pi=12.68684 \t f(p)=-0.00000 \t error=0.00000\n",
      "i=27.0 \t ai=12.68684 \t bi=12.68684 \t pi=12.68684 \t f(p)=-0.00000 \t error=0.00000\n"
     ]
    }
   ],
   "source": [
    "ai=a\n",
    "bi=b\n",
    " \n",
    "if(f(a)*f(b)<0):\n",
    " \n",
    "    while(error>Tol):\n",
    "        p=(bi+ai)*.5\n",
    "        p_prev=p\n",
    "        if(f(a)*f(p)<0):\n",
    "            bi=p\n",
    "            ai=ai\n",
    "        elif(f(b)*f(p)<0):\n",
    "            ai=p\n",
    "            bi=bi\n",
    "        i+=1\n",
    "        p=(bi+ai)*.5\n",
    "        error=abs(p-p_prev)\n",
    "    \n",
    "        print(\"i=%.1f \\t ai=%.5f \\t bi=%.5f \\t pi=%.5f \\t f(p)=%.5f \\t error=%.5f\" %(i,ai,bi,p,f(p),error)) # P es el cero (o la interseccion)\n",
    " \n",
    "        if(i>=Nmax):\n",
    "            print(\"Numero maximo de iteraciones excedido\")\n",
    "            break\n",
    "else:\n",
    "    print(\"Intervalo inadecuado\")"
   ]
  },
  {
   "cell_type": "code",
   "execution_count": null,
   "metadata": {},
   "outputs": [],
   "source": []
  }
 ],
 "metadata": {
  "kernelspec": {
   "display_name": "Python 2",
   "language": "python",
   "name": "python2"
  },
  "language_info": {
   "codemirror_mode": {
    "name": "ipython",
    "version": 2
   },
   "file_extension": ".py",
   "mimetype": "text/x-python",
   "name": "python",
   "nbconvert_exporter": "python",
   "pygments_lexer": "ipython2",
   "version": "2.7.12"
  }
 },
 "nbformat": 4,
 "nbformat_minor": 2
}
