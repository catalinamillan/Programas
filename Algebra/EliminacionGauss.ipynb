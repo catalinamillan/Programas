{
 "cells": [
  {
   "cell_type": "code",
   "execution_count": 1,
   "metadata": {},
   "outputs": [],
   "source": [
    "import numpy as np"
   ]
  },
  {
   "cell_type": "code",
   "execution_count": 67,
   "metadata": {},
   "outputs": [],
   "source": [
    "A=np.array([[1,1,1],[2,3,-4],[1,-1,1]])\n",
    "b=np.array([1,9,-1])"
   ]
  },
  {
   "cell_type": "code",
   "execution_count": 89,
   "metadata": {},
   "outputs": [],
   "source": [
    "#Funcion que retorna la fila donde se encuentra el pivote\n",
    "def row_pivote(A,fil,col):\n",
    "    max_val = max(A[fil:,col])\n",
    "    min_val = min(A[fil:,col])\n",
    "    \n",
    "    if(abs(max_val)>abs(min_val)):\n",
    "        pivote = max_val\n",
    "    else:\n",
    "        pivote = min_val\n",
    "        \n",
    "    #Obteniendo indice del pivote\n",
    "    for i in range(A.shape[0]):\n",
    "        if(A[i][col]==pivote):\n",
    "            fila_pivote = i\n",
    "    return fila_pivote"
   ]
  },
  {
   "cell_type": "code",
   "execution_count": 96,
   "metadata": {},
   "outputs": [],
   "source": [
    "def GaussSolver(A,b):\n",
    "    n=A.shape[0]\n",
    "    m=A.shape[1]\n",
    "\n",
    "    #Construyendo matriz aumentada\n",
    "    AB=np.zeros((n,m+1))\n",
    "    AB[:,0:m]=A\n",
    "    \n",
    "    for i in range(n):\n",
    "        AB[i][m]=b[i]\n",
    "    \n",
    "    #Eliminacion Gaussiana\n",
    "    i=0 #Filas\n",
    "    j=0 #Columnas\n",
    "    \n",
    "    #Recorriendo columnas\n",
    "    for h in range(j,m-1):\n",
    "        #Determinando fila del pivote\n",
    "        fila_pivote=row_pivote(AB,i,h)\n",
    "        #Determinandp pivote\n",
    "        pivote=AB[fila_pivote][h]\n",
    "        if(fila_pivote!=i):\n",
    "            #intercambiando filas, para poner el pivote en la fila i\n",
    "            AB[[fila_pivote,i]]=AB[[i,fila_pivote]] \n",
    "        for k in range(i+1,n):\n",
    "            x=-AB[k][h]/pivote\n",
    "            AB[k]=AB[k]+x*AB[i] #i porque el pivote ahora esta en i\n",
    "                \n",
    "        j+=1\n",
    "        i+=1\n",
    "            \n",
    "        #Vector solucion \n",
    "    x_sol=np.zeros(m)\n",
    "    for i in range(n-1,-1,-1):\n",
    "        if(i==n-1):\n",
    "            x_sol[i]=AB[i][m]\n",
    "        else:\n",
    "            suma=0.\n",
    "            for j in range(i+1,m):\n",
    "                suma+=AB[i][j]*x_sol[j]\n",
    "            x_sol[i]=(AB[i][m]-suma)/AB[i][i]\n",
    "                \n",
    "    return x_sol"
   ]
  },
  {
   "cell_type": "code",
   "execution_count": 97,
   "metadata": {},
   "outputs": [
    {
     "data": {
      "text/plain": [
       "array([ 0.72, -0.68, -2.4 ])"
      ]
     },
     "execution_count": 97,
     "metadata": {},
     "output_type": "execute_result"
    }
   ],
   "source": [
    "GaussSolver(A,b)"
   ]
  },
  {
   "cell_type": "code",
   "execution_count": null,
   "metadata": {},
   "outputs": [],
   "source": []
  }
 ],
 "metadata": {
  "kernelspec": {
   "display_name": "Python 3",
   "language": "python",
   "name": "python3"
  },
  "language_info": {
   "codemirror_mode": {
    "name": "ipython",
    "version": 3
   },
   "file_extension": ".py",
   "mimetype": "text/x-python",
   "name": "python",
   "nbconvert_exporter": "python",
   "pygments_lexer": "ipython3",
   "version": "3.6.6"
  }
 },
 "nbformat": 4,
 "nbformat_minor": 2
}
