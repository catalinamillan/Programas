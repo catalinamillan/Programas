{
 "cells": [
  {
   "cell_type": "code",
   "execution_count": 2,
   "metadata": {},
   "outputs": [],
   "source": [
    "import numpy as np"
   ]
  },
  {
   "cell_type": "code",
   "execution_count": 3,
   "metadata": {},
   "outputs": [],
   "source": [
    "A=np.array([[1.,2.,3.,4.],[5.,4.,6.,7.],[10.,3.,5.,7.],[2.,4.,7.,.8]])\n",
    "#B=np.array([[1.,.0,.0,.0],[.0,1.,0.,0.],[.0,.0,1.,0.],[0.,0.,0.,1.]])\n",
    "#A=np.array([[1,4,7],[2,5,8],[3,6,9]])\n",
    "B=np.array([[1,-1,2],[2,-1,2],[3,-3,0]])"
   ]
  },
  {
   "cell_type": "code",
   "execution_count": 4,
   "metadata": {},
   "outputs": [],
   "source": [
    "def TRAZA(A):\n",
    "    if A.shape[0]==A.shape[1]:\n",
    "        sum = 0\n",
    "        for i in range(A.shape[0]):\n",
    "                sum+=A[i][i]\n",
    "    return sum"
   ]
  },
  {
   "cell_type": "code",
   "execution_count": 5,
   "metadata": {},
   "outputs": [],
   "source": [
    "def Trasp(A):\n",
    "    AT=np.zeros((A.shape[0],A.shape[1]))\n",
    "    if A.shape[0]==A.shape[1]:\n",
    "        for i in range(A.shape[0]):\n",
    "            for j in range(A.shape[1]):\n",
    "                AT[i][j]=A[j][i]\n",
    "        return AT"
   ]
  },
  {
   "cell_type": "code",
   "execution_count": 6,
   "metadata": {},
   "outputs": [],
   "source": [
    "def Prod(A,B):\n",
    "    if (A.shape[1]==B.shape[0]):\n",
    "        m=A.shape[0]\n",
    "        n=A.shape[1]\n",
    "        p=B.shape[1]\n",
    "        C=np.zeros((m,p))\n",
    "        for i in range(m):\n",
    "            for j in range(p):\n",
    "                for r in range(n):\n",
    "                    C[i][j]+=A[i][r]*B[r][j]\n",
    "        return C"
   ]
  },
  {
   "cell_type": "code",
   "execution_count": 7,
   "metadata": {},
   "outputs": [],
   "source": [
    "def row_pivote(A,fil,col):\n",
    "    max_value=max(A[fil:,col])\n",
    "    min_value=min(A[fil:,col])\n",
    "    \n",
    "    #row_pivote=1\n",
    "    if(abs(max_value)>abs(min_value)):\n",
    "        piv=max_value\n",
    "    else:\n",
    "        piv=min_value\n",
    "    for i in range(0,A.shape[0]):\n",
    "        if A[i][col]==piv:\n",
    "            row_pivote=i\n",
    "            break\n",
    "    return row_pivote"
   ]
  },
  {
   "cell_type": "code",
   "execution_count": 8,
   "metadata": {},
   "outputs": [],
   "source": [
    "def GaussSolver(A,B):  #Solo retorna la matriz triangular asociada\n",
    "    n=A.shape[0]\n",
    "    m=A.shape[1]\n",
    "    cont=0 # Para calcular el signo de las trasposiciones\n",
    "    #Creando matriz aumentada\n",
    "    AB=np.zeros((n,m+1))\n",
    "    AB[:,0:m]=A\n",
    "    for i in range(0,len(B)):\n",
    "        AB[i][m]=B[i]\n",
    "       \n",
    "    #Inicia eliminación Gaussiana\n",
    "    i=0 #Fila inicial\n",
    "    j=0 #Columna inicial\n",
    "    \n",
    "    #Recorriendo columnas\n",
    "    for h in range(j,m-1): #Notar que no se trabaja sobre última columna de A\n",
    "        fila_pivote=row_pivote(AB,i,h)  \n",
    "        pivote=AB[fila_pivote,h]\n",
    "        if(fila_pivote!=i):\n",
    "            cont+=1\n",
    "            #Intercambiando filas\n",
    "            AB[[i,fila_pivote]]=AB[[fila_pivote,i]]\n",
    "            #Luego de esto, la fila pivote está en la posición i-ésima\n",
    "        for k in range(i+1,n):\n",
    "            x=-AB[k][h]/pivote\n",
    "            AB[k]=AB[k]+AB[i]*x\n",
    "        i=i+1\n",
    "        j=j+1\n",
    "\n",
    "    return AB,cont # Matriz AB | numero de trasposiciones"
   ]
  },
  {
   "cell_type": "code",
   "execution_count": 9,
   "metadata": {},
   "outputs": [],
   "source": [
    "def det(A):\n",
    "    if (A.shape[0]==A.shape[1]):\n",
    "        n=A.shape[0]\n",
    "        X=np.zeros(A.shape[0])\n",
    "        det= 1\n",
    "        for i in range(n):\n",
    "            det=det*GaussSolver(A,X)[0][i][i]\n",
    "        return (-1)**GaussSolver(A,X)[1]*det"
   ]
  },
  {
   "cell_type": "code",
   "execution_count": 10,
   "metadata": {},
   "outputs": [],
   "source": [
    "def M_Menor(A,i,j):  # Menor (i,j) de A: Remueve la fila i y la columna j \n",
    "    if (A.shape[0]==A.shape[1]):  \n",
    "        n=A.shape[0]  \n",
    "        A=list(A)\n",
    "        for k in range(n):\n",
    "            A[k]=list(A[k])\n",
    "        \n",
    "        #Removiendo columna\n",
    "        for k in range(n):\n",
    "            A[k].remove(A[k][j])\n",
    "        #Removiendo fila\n",
    "        A.remove(A[i])\n",
    "        return  np.array(A)\n",
    "\n",
    "def Adj(A): # Matriz Adjunta \n",
    "    if (A.shape[0]==A.shape[1]):\n",
    "        n=A.shape[0]\n",
    "        Adj=np.zeros(A.shape)\n",
    "        for i in range(n):\n",
    "            for j in range(n):\n",
    "                Adj[i][j]=(-1)**(i+j)*det(M_Menor(A,i,j))\n",
    "        return Adj\n",
    "\n",
    "def Inv(A):\n",
    "    if (det(A)!=0):\n",
    "        return 1/det(A)*Trasp(Adj(A))\n",
    "        \n",
    "    else:\n",
    "        print('No invertible')\n",
    "\n",
    "def chop(A):  ## los numeros muy aproximados a cero los cambia por cero\n",
    "    for i in range(A.shape[0]):\n",
    "        for j in range(A.shape[1]):\n",
    "            if (abs(A[i][j])<=1e-14):\n",
    "                A[i][j]=0.\n",
    "    return A"
   ]
  },
  {
   "cell_type": "code",
   "execution_count": 11,
   "metadata": {},
   "outputs": [],
   "source": [
    "#Polinomio característico\n",
    "def eigenvalue(A):\n",
    "    AA=Prod(A,A)\n",
    "    AAA=Prod(AA,A)\n",
    "    \n",
    "    a0=1/6.*(TRAZA(A)**3+2*TRAZA(AAA)-3*TRAZA(A)*TRAZA(AA))\n",
    "    a1=-.5*(TRAZA(A)**2-TRAZA(AA))\n",
    "    a2=TRAZA(A)\n",
    "    a3=-1\n",
    "    \n",
    "    coeff = [a3,a2,a1,a0]\n",
    "    \n",
    "    #valores propios\n",
    "    \n",
    "    l1=np.roots(coeff)[0].real\n",
    "    l2=np.roots(coeff)[1].real\n",
    "    l3=np.roots(coeff)[2].real\n",
    "    \n",
    "    return (l1,l2,l3)"
   ]
  },
  {
   "cell_type": "code",
   "execution_count": 12,
   "metadata": {},
   "outputs": [],
   "source": [
    "def eigenvector33(A,eigenvalue):\n",
    "    #Creando matriz (A-eigenvalue*1)*x=0\n",
    "    matrix=A-eigenvalue*np.identity(3)\n",
    "    x=np.array([0,0,0])\n",
    "    return GaussSolver(matrix,x)\n",
    "\n",
    "def eigenvector22(A,eigenvalue):\n",
    "    #Creando matriz (A-eigenvalue*1)*x=0\n",
    "    matrix=A-eigenvalue*np.identity(2)\n",
    "    x=np.array([0,0])\n",
    "    return GaussSolver(matrix,x)"
   ]
  },
  {
   "cell_type": "code",
   "execution_count": null,
   "metadata": {},
   "outputs": [],
   "source": []
  }
 ],
 "metadata": {
  "kernelspec": {
   "display_name": "Python 3",
   "language": "python",
   "name": "python3"
  },
  "language_info": {
   "codemirror_mode": {
    "name": "ipython",
    "version": 3
   },
   "file_extension": ".py",
   "mimetype": "text/x-python",
   "name": "python",
   "nbconvert_exporter": "python",
   "pygments_lexer": "ipython3",
   "version": "3.5.2"
  }
 },
 "nbformat": 4,
 "nbformat_minor": 2
}
