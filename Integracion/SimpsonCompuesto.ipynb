{
 "cells": [
  {
   "cell_type": "code",
   "execution_count": 3,
   "metadata": {},
   "outputs": [],
   "source": [
    "import numpy as np\n",
    "import matplotlib.pyplot as plt"
   ]
  },
  {
   "cell_type": "code",
   "execution_count": 4,
   "metadata": {},
   "outputs": [],
   "source": [
    "f = lambda x: (np.sin((1.+x)**.5)*np.log(x**2))**(1./3)"
   ]
  },
  {
   "cell_type": "code",
   "execution_count": 7,
   "metadata": {},
   "outputs": [],
   "source": [
    "def SimpComp(f,a,b,n):\n",
    "    \n",
    "    h = (b-a)/np.float(n) #Espaciamiento\n",
    "    \n",
    "    x_node = np.zeros(n+1) # Vector de nodos\n",
    "    \n",
    "    for i in range(n+1): \n",
    "        x_node[i] = a+ h*i\n",
    "            \n",
    "    #Integracion\n",
    "    suma_impar = 0\n",
    "    for i in range(1,int(n/2)+1):\n",
    "        suma_impar += f(x_node[2*i-1])\n",
    "    \n",
    "    suma_par = 0\n",
    "    for i in range(1,int(n/2.)):\n",
    "        suma_par+= f(x_node[2*i])\n",
    "\n",
    "        \n",
    "    return h/3*(f(a)+2*suma_par+4*suma_impar+f(b))"
   ]
  },
  {
   "cell_type": "code",
   "execution_count": 8,
   "metadata": {},
   "outputs": [
    {
     "name": "stdout",
     "output_type": "stream",
     "text": [
      "0.8672540646703698\n"
     ]
    }
   ],
   "source": [
    "print (SimpComp(f,1,2,10))"
   ]
  },
  {
   "cell_type": "markdown",
   "metadata": {},
   "source": [
    "10 am 2-404"
   ]
  }
 ],
 "metadata": {
  "kernelspec": {
   "display_name": "Python 3",
   "language": "python",
   "name": "python3"
  },
  "language_info": {
   "codemirror_mode": {
    "name": "ipython",
    "version": 3
   },
   "file_extension": ".py",
   "mimetype": "text/x-python",
   "name": "python",
   "nbconvert_exporter": "python",
   "pygments_lexer": "ipython3",
   "version": "3.6.6"
  }
 },
 "nbformat": 4,
 "nbformat_minor": 2
}
