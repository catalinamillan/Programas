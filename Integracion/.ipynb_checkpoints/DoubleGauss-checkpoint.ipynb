{
 "cells": [
  {
   "cell_type": "code",
   "execution_count": 2,
   "metadata": {},
   "outputs": [],
   "source": [
    "import numpy as np\n",
    "import matplotlib.pyplot as plt"
   ]
  },
  {
   "cell_type": "code",
   "execution_count": 7,
   "metadata": {},
   "outputs": [],
   "source": [
    "coeff = np.loadtxt('/home/catalina/Desktop/tareas/coeff10.dat')"
   ]
  },
  {
   "cell_type": "code",
   "execution_count": 8,
   "metadata": {},
   "outputs": [],
   "source": [
    "f = lambda x,y: np.exp(y/x)\n",
    "\n",
    "c = lambda x: x**3\n",
    "d = lambda x: x**2"
   ]
  },
  {
   "cell_type": "code",
   "execution_count": 9,
   "metadata": {},
   "outputs": [],
   "source": [
    "def DoubleGauss(a,b,c,d,f,n,m):\n",
    "    #Creando pesos (w_i,w_j) y raicez (z_i,t_j)\n",
    "    u_i = []\n",
    "    w_i = []\n",
    "    t_j = []\n",
    "    w_j = []\n",
    "    \n",
    "    for i in range(coeff.shape[0]):\n",
    "        if (n==coeff[i][0]):\n",
    "            u_i.append(coeff[i][2])\n",
    "            w_i.append(coeff[i][1])\n",
    "\n",
    "    for j in range(coeff.shape[0]):\n",
    "        if (m==coeff[j][0]):\n",
    "            t_j.append(coeff[j][2])\n",
    "            w_j.append(coeff[j][1])\n",
    "\n",
    "    #Inicia Integración\n",
    "    sum_i = 0.\n",
    "    for i in range(n):\n",
    "        x_i=((b-a)*u_i[i]+a+b)*.5 #x(z_i)\n",
    "        k_i=d(x_i)-c(x_i)\n",
    "        \n",
    "        sum_j = 0.\n",
    "        for j in range(m):\n",
    "            y_j = .5*(k_i*t_j[j]+c(x_i)+d(x_i))\n",
    "            sum_j += f(x_i,y_j)*w_j[j]\n",
    "        sum_i+=k_i*sum_j*w_i[i]\n",
    "        \n",
    "    value = sum_i*.25*(b-a)\n",
    "        \n",
    "    return value\n"
   ]
  },
  {
   "cell_type": "code",
   "execution_count": 10,
   "metadata": {},
   "outputs": [
    {
     "data": {
      "text/plain": [
       "0.0"
      ]
     },
     "execution_count": 10,
     "metadata": {},
     "output_type": "execute_result"
    }
   ],
   "source": [
    "DoubleGauss(.1,.5,c,d,f,5,5)"
   ]
  },
  {
   "cell_type": "code",
   "execution_count": null,
   "metadata": {},
   "outputs": [],
   "source": []
  }
 ],
 "metadata": {
  "kernelspec": {
   "display_name": "Python 3",
   "language": "python",
   "name": "python3"
  },
  "language_info": {
   "codemirror_mode": {
    "name": "ipython",
    "version": 3
   },
   "file_extension": ".py",
   "mimetype": "text/x-python",
   "name": "python",
   "nbconvert_exporter": "python",
   "pygments_lexer": "ipython3",
   "version": "3.5.2"
  }
 },
 "nbformat": 4,
 "nbformat_minor": 2
}
