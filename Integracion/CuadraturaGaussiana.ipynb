{
 "cells": [
  {
   "cell_type": "code",
   "execution_count": 4,
   "metadata": {},
   "outputs": [],
   "source": [
    "import numpy as np\n",
    "import matplotlib.pyplot as plt"
   ]
  },
  {
   "cell_type": "code",
   "execution_count": 5,
   "metadata": {},
   "outputs": [],
   "source": [
    "coeff = np.loadtxt('coeff.dat') #ci | zi"
   ]
  },
  {
   "cell_type": "code",
   "execution_count": 6,
   "metadata": {},
   "outputs": [],
   "source": [
    "def f(x):\n",
    "    return 2*x/(x**2-4)\n",
    "\n",
    "def GaussQuad(f,a,b,n):\n",
    "    \n",
    "    z_list = []\n",
    "    w_list = []\n",
    "    \n",
    "    for i in range(coeff.shape[0]):\n",
    "        if (n==int(coeff[i][0])):\n",
    "            w_list.append(coeff[i][2])\n",
    "            z_list.append(coeff[i][1])\n",
    "            \n",
    "    sum = 0 \n",
    "    for i in range(n):\n",
    "        argument = ((b-a)*z_list[i]+a+b)*.5\n",
    "        sum+= w_list[i]*f(argument)\n",
    "    value=sum*(b-a)*.5\n",
    "    \n",
    "    return value"
   ]
  },
  {
   "cell_type": "code",
   "execution_count": 7,
   "metadata": {},
   "outputs": [
    {
     "name": "stdout",
     "output_type": "stream",
     "text": [
      "1.216290281598169\n"
     ]
    }
   ],
   "source": [
    "print(GaussQuad(f,0,3,5))"
   ]
  },
  {
   "cell_type": "code",
   "execution_count": null,
   "metadata": {},
   "outputs": [],
   "source": []
  }
 ],
 "metadata": {
  "kernelspec": {
   "display_name": "Python 3",
   "language": "python",
   "name": "python3"
  }
 },
 "nbformat": 4,
 "nbformat_minor": 2
}
