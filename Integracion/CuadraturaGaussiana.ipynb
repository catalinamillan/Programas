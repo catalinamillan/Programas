{
 "cells": [
  {
   "cell_type": "code",
   "execution_count": 9,
   "metadata": {},
   "outputs": [],
   "source": [
    "import numpy as np\n",
    "import matplotlib.pyplot as plt"
   ]
  },
  {
   "cell_type": "code",
   "execution_count": 73,
   "metadata": {},
   "outputs": [],
   "source": [
    "coeff = np.loadtxt('/home/catalina/Desktop/tareas/coeff2k.dat') #ci | zi  raices/ pesos "
   ]
  },
  {
   "cell_type": "code",
   "execution_count": 74,
   "metadata": {},
   "outputs": [],
   "source": [
    "def GaussQuad(f,a,b,n):\n",
    "    \n",
    "    z_list = []\n",
    "    w_list = []\n",
    "    \n",
    "    for i in range(coeff.shape[0]):\n",
    "        if (n==int(coeff[i][0])):\n",
    "            w_list.append(coeff[i][1])\n",
    "            z_list.append(coeff[i][2])\n",
    "            \n",
    "    sum = 0 \n",
    "    for i in range(n):\n",
    "        argument = ((b-a)*z_list[i]+a+b)*.5\n",
    "        sum+= w_list[i]*f(argument)\n",
    "    value=sum*(b-a)*.5\n",
    "    \n",
    "    return value"
   ]
  },
  {
   "cell_type": "code",
   "execution_count": 75,
   "metadata": {},
   "outputs": [],
   "source": [
    "f = lambda x: 1/(2*np.pi)**.5*np.exp(-.5*x**2)"
   ]
  },
  {
   "cell_type": "code",
   "execution_count": 76,
   "metadata": {},
   "outputs": [
    {
     "name": "stdout",
     "output_type": "stream",
     "text": [
      "0.6753946992919996\n"
     ]
    }
   ],
   "source": [
    "print(GaussQuad(f,-1,1,2))"
   ]
  },
  {
   "cell_type": "code",
   "execution_count": null,
   "metadata": {},
   "outputs": [],
   "source": []
  }
 ],
 "metadata": {
  "kernelspec": {
   "display_name": "Python 3",
   "language": "python",
   "name": "python3"
  },
  "language_info": {
   "codemirror_mode": {
    "name": "ipython",
    "version": 3
   },
   "file_extension": ".py",
   "mimetype": "text/x-python",
   "name": "python",
   "nbconvert_exporter": "python",
   "pygments_lexer": "ipython3",
   "version": "3.5.2"
  }
 },
 "nbformat": 4,
 "nbformat_minor": 2
}
