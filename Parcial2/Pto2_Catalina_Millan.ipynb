{
 "cells": [
  {
   "cell_type": "code",
   "execution_count": 1,
   "metadata": {},
   "outputs": [],
   "source": [
    "import numpy as np"
   ]
  },
  {
   "cell_type": "code",
   "execution_count": 2,
   "metadata": {},
   "outputs": [],
   "source": [
    "coeff = np.loadtxt('coeff2k.dat') "
   ]
  },
  {
   "cell_type": "code",
   "execution_count": 3,
   "metadata": {},
   "outputs": [],
   "source": [
    "sigma = lambda x,y: np.exp(-x**2-y**2)\n",
    "xsigma = lambda x,y: x*np.exp(-x**2-y**2)\n",
    "ysigma = lambda x,y: y*np.exp(-x**2-y**2)\n",
    "c = lambda x: 0\n",
    "d = lambda x: (1-x**2)**.5"
   ]
  },
  {
   "cell_type": "code",
   "execution_count": 4,
   "metadata": {},
   "outputs": [],
   "source": [
    "def DoubleGauss(a,b,c,d,f,n,m):\n",
    "    #Creando pesos (w_i,w_j) y raicez (z_i,t_j)\n",
    "    u_i = []\n",
    "    w_i = []\n",
    "    t_j = []\n",
    "    w_j = []\n",
    "    \n",
    "    for i in range(coeff.shape[0]):\n",
    "        if (n==coeff[i][0]):\n",
    "            u_i.append(coeff[i][2])\n",
    "            w_i.append(coeff[i][1])\n",
    "\n",
    "    for j in range(coeff.shape[0]):\n",
    "        if (m==coeff[j][0]):\n",
    "            t_j.append(coeff[j][2])\n",
    "            w_j.append(coeff[j][1])\n",
    "\n",
    "    #Inicia Integración\n",
    "    sum_i = 0.\n",
    "    for i in range(n):\n",
    "        x_i=((b-a)*u_i[i]+a+b)*.5 #x(z_i)\n",
    "        k_i=d(x_i)-c(x_i)\n",
    "        \n",
    "        sum_j = 0.\n",
    "        for j in range(m):\n",
    "            y_j = .5*(k_i*t_j[j]+c(x_i)+d(x_i))\n",
    "            sum_j += f(x_i,y_j)*w_j[j]\n",
    "        sum_i+=k_i*sum_j*w_i[i]\n",
    "        \n",
    "    value = sum_i*.25*(b-a)\n",
    "        \n",
    "    return value"
   ]
  },
  {
   "cell_type": "code",
   "execution_count": 5,
   "metadata": {},
   "outputs": [
    {
     "data": {
      "text/plain": [
       "(0.381642136392196, 0.3816417342765114)"
      ]
     },
     "execution_count": 5,
     "metadata": {},
     "output_type": "execute_result"
    }
   ],
   "source": [
    "xbarra, ybarra = (DoubleGauss(0,1,c,d,xsigma,64,64)/DoubleGauss(0,1,c,d,sigma,64,64), DoubleGauss(0,1,c,d,ysigma,64,64)/DoubleGauss(0,1,c,d,sigma,64,64))\n",
    "\n",
    "\n",
    "xbarra, ybarra"
   ]
  }
 ],
 "metadata": {
  "kernelspec": {
   "display_name": "Python 3",
   "language": "python",
   "name": "python3"
  },
  "language_info": {
   "codemirror_mode": {
    "name": "ipython",
    "version": 3
   },
   "file_extension": ".py",
   "mimetype": "text/x-python",
   "name": "python",
   "nbconvert_exporter": "python",
   "pygments_lexer": "ipython3",
   "version": "3.6.8"
  }
 },
 "nbformat": 4,
 "nbformat_minor": 2
}
