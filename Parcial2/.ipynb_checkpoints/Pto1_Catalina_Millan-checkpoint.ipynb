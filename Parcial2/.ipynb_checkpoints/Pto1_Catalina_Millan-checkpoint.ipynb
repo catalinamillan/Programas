{
 "cells": [
  {
   "cell_type": "code",
   "execution_count": 1,
   "metadata": {},
   "outputs": [],
   "source": [
    "import numpy as np"
   ]
  },
  {
   "cell_type": "code",
   "execution_count": 2,
   "metadata": {},
   "outputs": [],
   "source": [
    "data = np.loadtxt('brake_pad.txt')\n",
    "r_list= [i[0] for i in data[:,0:1]]\n",
    "T_list= [i[0] for i in data[:,1:2]]\n"
   ]
  },
  {
   "cell_type": "code",
   "execution_count": 3,
   "metadata": {},
   "outputs": [],
   "source": [
    "def T(x_list,y_list,x):\n",
    "    for i in range(0,len(x_list)-1):\n",
    "        if(x>=x_list[i] and x<=x_list[i+1]):\n",
    "            x_prev=x_list[i]\n",
    "            y_prev=y_list[i]\n",
    "            x_next=x_list[i+1]\n",
    "            y_next=y_list[i+1]\n",
    "            \n",
    "            y= (y_next-y_prev)/(x_next-x_prev)*(x-x_prev)+y_prev\n",
    "            \n",
    "            return y"
   ]
  },
  {
   "cell_type": "code",
   "execution_count": 4,
   "metadata": {},
   "outputs": [],
   "source": [
    "f = lambda r: T(r_list,T_list,r)*r*.7051 # funcion de la integral superior\n",
    "g = lambda r: r*.7051 #funcion de la integral inferior"
   ]
  },
  {
   "cell_type": "code",
   "execution_count": 5,
   "metadata": {},
   "outputs": [],
   "source": [
    "def SimpComp(f,a,b):\n",
    "    \n",
    "    h = r_list[1]-r_list[0] #Espaciamiento\n",
    "    n=len(r_list)-1\n",
    "    x_node = np.zeros(n+1) # Vector de nodos\n",
    "    \n",
    "    for i in range(n+1): \n",
    "        x_node[i] = a+ h*i\n",
    "            \n",
    "    #Integracion\n",
    "    suma_impar = 0\n",
    "    for i in range(1,int(n/2)+1):\n",
    "        suma_impar += f(x_node[2*i-1])\n",
    "    \n",
    "    suma_par = 0\n",
    "    for i in range(1,int(n/2.)):\n",
    "        suma_par+= f(x_node[2*i])\n",
    "\n",
    "        \n",
    "    return h/3*(f(a)+2*suma_par+4*suma_impar+f(b))"
   ]
  },
  {
   "cell_type": "code",
   "execution_count": 6,
   "metadata": {
    "scrolled": true
   },
   "outputs": [],
   "source": [
    "T = SimpComp(f,.308,.478)/SimpComp(g,.308,.478)  #integral superior/Integral inferior"
   ]
  }
 ],
 "metadata": {
  "kernelspec": {
   "display_name": "Python 3",
   "language": "python",
   "name": "python3"
  },
  "language_info": {
   "codemirror_mode": {
    "name": "ipython",
    "version": 3
   },
   "file_extension": ".py",
   "mimetype": "text/x-python",
   "name": "python",
   "nbconvert_exporter": "python",
   "pygments_lexer": "ipython3",
   "version": "3.5.2"
  }
 },
 "nbformat": 4,
 "nbformat_minor": 2
}
