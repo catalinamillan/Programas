{
 "cells": [
  {
   "cell_type": "code",
   "execution_count": 2,
   "metadata": {},
   "outputs": [],
   "source": [
    "import numpy as np"
   ]
  },
  {
   "cell_type": "code",
   "execution_count": 3,
   "metadata": {},
   "outputs": [],
   "source": [
    "data = np.loadtxt('brake_pad.txt')\n",
    "\n",
    "r_list= data[:,0:1]\n",
    "T_list= data[:,1:2]"
   ]
  },
  {
   "cell_type": "code",
   "execution_count": 4,
   "metadata": {},
   "outputs": [],
   "source": [
    "def T(x_list,y_list,x):  # Interpolacion por lagrange\n",
    "    sum=0 \n",
    "    for i in range(0,len(x_list)):\n",
    "        prod=1\n",
    "\n",
    "        for j in range(0,len(x_list)):\n",
    "            if(j!=i):\n",
    "                prod*=(x-x_list[j])/(x_list[i]-x_list[j])\n",
    "        sum+=y_list[i]*prod\n",
    "            \n",
    "    return sum\n"
   ]
  },
  {
   "cell_type": "code",
   "execution_count": 5,
   "metadata": {},
   "outputs": [],
   "source": [
    "f = lambda r: T(r_list,T_list,r)*r*.7051 # funcion de la integral superior\n",
    "g = lambda r: r*.7051 #funcion de la integral inferior\n"
   ]
  },
  {
   "cell_type": "code",
   "execution_count": 6,
   "metadata": {},
   "outputs": [],
   "source": [
    "def SimpComp(f,a,b,n):\n",
    "    \n",
    "    h = (b-a)/np.float(n)\n",
    "    x_node = np.zeros(n+1) # Vector de nodos\n",
    "    \n",
    "    for i in range(n+1): \n",
    "        x_node[i] = a+ h*i\n",
    "            \n",
    "    #Integracion\n",
    "    suma_impar = 0\n",
    "    for i in range(1,int(n/2)+1):\n",
    "        suma_impar += f(x_node[2*i-1])\n",
    "    \n",
    "    suma_par = 0\n",
    "    for i in range(1,int(n/2.)):\n",
    "        suma_par+= f(x_node[2*i])\n",
    "\n",
    "        \n",
    "    return h/3*(f(a)+2*suma_par+4*suma_impar+f(b))"
   ]
  },
  {
   "cell_type": "code",
   "execution_count": 7,
   "metadata": {
    "scrolled": true
   },
   "outputs": [
    {
     "data": {
      "text/plain": [
       "array([1054.69397795])"
      ]
     },
     "execution_count": 7,
     "metadata": {},
     "output_type": "execute_result"
    }
   ],
   "source": [
    "SimpComp(f,r_list[0],r_list[10],10)/SimpComp(g,r_list[0],r_list[10],10) #integral superior/Integral inferior"
   ]
  },
  {
   "cell_type": "code",
   "execution_count": 10,
   "metadata": {},
   "outputs": [
    {
     "data": {
      "text/plain": [
       "array([1036.86796998])"
      ]
     },
     "execution_count": 10,
     "metadata": {},
     "output_type": "execute_result"
    }
   ],
   "source": [
    "SimpComp(f,r_list[0],r_list[10],1000)/SimpComp(g,r_list[0],r_list[10],1000)"
   ]
  },
  {
   "cell_type": "code",
   "execution_count": null,
   "metadata": {},
   "outputs": [],
   "source": []
  }
 ],
 "metadata": {
  "kernelspec": {
   "display_name": "Python 3",
   "language": "python",
   "name": "python3"
  }
 },
 "nbformat": 4,
 "nbformat_minor": 2
}
