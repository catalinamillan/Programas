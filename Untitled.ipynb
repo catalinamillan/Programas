{
 "cells": [
  {
   "cell_type": "code",
   "execution_count": 1,
   "metadata": {},
   "outputs": [],
   "source": [
    "import numpy  as  np\n",
    "import  matplotlib.pyplot as plt"
   ]
  },
  {
   "cell_type": "code",
   "execution_count": 4,
   "metadata": {},
   "outputs": [],
   "source": [
    "import numpy  as  np\n",
    "import  matplotlib.pyplot as plt\n",
    "\n",
    "x_list = [1.8,1.9,2.0,2.1,2.2]\n",
    "y_list = [10.889365,12.703199,14.778112,17.148957,19.855030]\n",
    "dydx_list = []\n",
    "\n",
    "def dfdx(x_list,y_list):\n",
    "    for i in range(0,len(x_list)):\n",
    "        if i==0:\n",
    "            x0=x_list[i]\n",
    "            y0=y_list[i]\n",
    "            x1=x_list[i+1]\n",
    "            y1=y_list[i+1]\n",
    "            x2=x_list[i+2]\n",
    "            y2=y_list[i+2]\n",
    "            \n",
    "        elif i==len(x_list)-1:\n",
    "            x0=x_list[i]\n",
    "            y0=y_list[i]\n",
    "            x1=x_list[i-1]\n",
    "            y1=y_list[i-1]\n",
    "            x2=x_list[i-2]            \n",
    "            y2=y_list[i-2]\n",
    "            \n",
    "        else:\n",
    "            x0=x_list[i]\n",
    "            y0=y_list[i]\n",
    "            x1=x_list[i-1]\n",
    "            y1=y_list[i-1]\n",
    "            x2=x_list[i+1]            \n",
    "            y2=y_list[i+1]\n",
    " \n",
    "        x = x_list[i]\n",
    "    \n",
    "        dL0dx = (2*x-x1-x2)/((x0-x1)*(x0-x2))\n",
    "        dL1dx = (2*x-x0-x2)/((x1-x0)*(x1-x2))\n",
    "        dL2dx = (2*x-x0-x1)/((x2-x0)*(x2-x1))\n",
    "    \n",
    "        value = dL0dx*y0 + dL1dx*y1 + dL2dx*y2\n",
    "        \n",
    "        dydx_list.append(value)\n",
    "    \n",
    "    return dydx_list\n",
    "    \n",
    "\n",
    "x_array=np.linspace(min(x_list),max(x_list),100)\n",
    "dfdx_array=[]\n",
    "def dfdx_exact(x):\n",
    "    value = np.e**x + x*np.e**x\n",
    "    return value\n",
    "\n",
    "for i in range(0,len(x_array)):\n",
    "    dfdx_array.append(dfdx_exact(x_array[i]))"
   ]
  },
  {
   "cell_type": "code",
   "execution_count": 7,
   "metadata": {},
   "outputs": [
    {
     "ename": "ValueError",
     "evalue": "0 is not in list",
     "output_type": "error",
     "traceback": [
      "\u001b[0;31m---------------------------------------------------------------------------\u001b[0m",
      "\u001b[0;31mValueError\u001b[0m                                Traceback (most recent call last)",
      "\u001b[0;32m<ipython-input-7-09bb250b68cb>\u001b[0m in \u001b[0;36m<module>\u001b[0;34m()\u001b[0m\n\u001b[0;32m----> 1\u001b[0;31m \u001b[0;32mprint\u001b[0m \u001b[0;34m(\u001b[0m\u001b[0mdfdx\u001b[0m\u001b[0;34m(\u001b[0m\u001b[0mx_list\u001b[0m\u001b[0;34m,\u001b[0m\u001b[0my_list\u001b[0m\u001b[0;34m)\u001b[0m\u001b[0;34m)\u001b[0m\u001b[0;34m\u001b[0m\u001b[0m\n\u001b[0m",
      "\u001b[0;32m<ipython-input-4-05d3e4ce22ae>\u001b[0m in \u001b[0;36mdfdx\u001b[0;34m(x_list, y_list)\u001b[0m\n\u001b[1;32m     29\u001b[0m             \u001b[0my2\u001b[0m\u001b[0;34m=\u001b[0m\u001b[0my_list\u001b[0m\u001b[0;34m[\u001b[0m\u001b[0mi\u001b[0m\u001b[0;34m+\u001b[0m\u001b[0;36m1\u001b[0m\u001b[0;34m]\u001b[0m\u001b[0;34m\u001b[0m\u001b[0m\n\u001b[1;32m     30\u001b[0m \u001b[0;34m\u001b[0m\u001b[0m\n\u001b[0;32m---> 31\u001b[0;31m         \u001b[0mx\u001b[0m \u001b[0;34m=\u001b[0m \u001b[0mx_list\u001b[0m\u001b[0;34m.\u001b[0m\u001b[0mindex\u001b[0m\u001b[0;34m(\u001b[0m\u001b[0mi\u001b[0m\u001b[0;34m)\u001b[0m\u001b[0;34m\u001b[0m\u001b[0m\n\u001b[0m\u001b[1;32m     32\u001b[0m \u001b[0;34m\u001b[0m\u001b[0m\n\u001b[1;32m     33\u001b[0m         \u001b[0mdL0dx\u001b[0m \u001b[0;34m=\u001b[0m \u001b[0;34m(\u001b[0m\u001b[0;36m2\u001b[0m\u001b[0;34m*\u001b[0m\u001b[0mx\u001b[0m\u001b[0;34m-\u001b[0m\u001b[0mx1\u001b[0m\u001b[0;34m-\u001b[0m\u001b[0mx2\u001b[0m\u001b[0;34m)\u001b[0m\u001b[0;34m/\u001b[0m\u001b[0;34m(\u001b[0m\u001b[0;34m(\u001b[0m\u001b[0mx0\u001b[0m\u001b[0;34m-\u001b[0m\u001b[0mx1\u001b[0m\u001b[0;34m)\u001b[0m\u001b[0;34m*\u001b[0m\u001b[0;34m(\u001b[0m\u001b[0mx0\u001b[0m\u001b[0;34m-\u001b[0m\u001b[0mx2\u001b[0m\u001b[0;34m)\u001b[0m\u001b[0;34m)\u001b[0m\u001b[0;34m\u001b[0m\u001b[0m\n",
      "\u001b[0;31mValueError\u001b[0m: 0 is not in list"
     ]
    }
   ],
   "source": [
    "print (dfdx(x_list,y_list))"
   ]
  },
  {
   "cell_type": "code",
   "execution_count": null,
   "metadata": {},
   "outputs": [],
   "source": []
  }
 ],
 "metadata": {
  "kernelspec": {
   "display_name": "Python 2",
   "language": "python",
   "name": "python2"
  },
  "language_info": {
   "codemirror_mode": {
    "name": "ipython",
    "version": 2
   },
   "file_extension": ".py",
   "mimetype": "text/x-python",
   "name": "python",
   "nbconvert_exporter": "python",
   "pygments_lexer": "ipython2",
   "version": "2.7.12"
  }
 },
 "nbformat": 4,
 "nbformat_minor": 2
}
