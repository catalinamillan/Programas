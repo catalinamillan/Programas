{
 "cells": [
  {
   "cell_type": "code",
   "execution_count": 8,
   "metadata": {},
   "outputs": [],
   "source": [
    "import numpy as np"
   ]
  },
  {
   "cell_type": "code",
   "execution_count": 9,
   "metadata": {},
   "outputs": [],
   "source": [
    "f = lambda rj: sum(i for i in rj)**2"
   ]
  },
  {
   "cell_type": "code",
   "execution_count": 17,
   "metadata": {},
   "outputs": [],
   "source": [
    "def MC(f):\n",
    "    sum_1=0\n",
    "    sum_2=0\n",
    "    for M in range(1000000):\n",
    "        rj=np.random.rand(10)\n",
    "        sum_1+=f(rj)\n",
    "        \n",
    "        sum_2+=f(rj)**2\n",
    "        \n",
    "    f_prom=sum_1/M\n",
    "    f_prom2=sum_2/M\n",
    "    \n",
    "    error=((f_prom**2+f_prom2)/M)**.5\n",
    "    return (f_prom,error)"
   ]
  },
  {
   "cell_type": "code",
   "execution_count": 23,
   "metadata": {},
   "outputs": [],
   "source": [
    "limites=[(0,1),(0,1),(0,1),(0,1),(0,1),(0,1),(0,1),(0,1),(0,1),(0,1)]\n",
    "\n",
    "def MC(f,limites):\n",
    "    sum_1=0\n",
    "    sum_2=0\n",
    "    for M in range(1000000):\n",
    "        rj=np.random.rand(10)\n",
    "        sum_1+=f(rj)\n",
    "        \n",
    "        sum_2+=f(rj)**2\n",
    "        \n",
    "    f_prom1=sum_1/M\n",
    "    f_prom2=sum_2/M\n",
    "    \n",
    "    error=((f_prom1**2+f_prom2)/M)**.5\n",
    "    \n",
    "    prod=1\n",
    "    for x in limites:\n",
    "        prod*=(x[1]-x[0])\n",
    "        \n",
    "    return (f_prom1*prod,error)"
   ]
  },
  {
   "cell_type": "code",
   "execution_count": 24,
   "metadata": {},
   "outputs": [
    {
     "data": {
      "text/plain": [
       "(25.84244571959931, 0.03768660572877522)"
      ]
     },
     "execution_count": 24,
     "metadata": {},
     "output_type": "execute_result"
    }
   ],
   "source": [
    "MC(f,limites)"
   ]
  },
  {
   "cell_type": "raw",
   "metadata": {},
   "source": [
    "serie de numeros aleatorios entre a y b X=A+(B-A)*y (y es rand(0,1)"
   ]
  },
  {
   "cell_type": "code",
   "execution_count": 20,
   "metadata": {},
   "outputs": [
    {
     "data": {
      "text/plain": [
       "25.833333333333332"
      ]
     },
     "execution_count": 20,
     "metadata": {},
     "output_type": "execute_result"
    }
   ],
   "source": [
    "155/6"
   ]
  },
  {
   "cell_type": "code",
   "execution_count": null,
   "metadata": {},
   "outputs": [],
   "source": []
  }
 ],
 "metadata": {
  "kernelspec": {
   "display_name": "Python 3",
   "language": "python",
   "name": "python3"
  },
  "language_info": {
   "codemirror_mode": {
    "name": "ipython",
    "version": 3
   },
   "file_extension": ".py",
   "mimetype": "text/x-python",
   "name": "python",
   "nbconvert_exporter": "python",
   "pygments_lexer": "ipython3",
   "version": "3.5.2"
  }
 },
 "nbformat": 4,
 "nbformat_minor": 2
}
