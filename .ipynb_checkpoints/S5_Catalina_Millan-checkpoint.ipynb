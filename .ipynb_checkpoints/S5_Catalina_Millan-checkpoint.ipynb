{
 "cells": [
  {
   "cell_type": "code",
   "execution_count": 1,
   "metadata": {},
   "outputs": [],
   "source": [
    "import numpy as np"
   ]
  },
  {
   "cell_type": "markdown",
   "metadata": {},
   "source": [
    "## Leapfrog\n",
    "\n",
    "\\begin{equation}\n",
    "f(x,y)=\\frac{1}{\\pi}e^{-(x-4)²-y²}\n",
    "\\end{equation}\n"
   ]
  },
  {
   "cell_type": "code",
   "execution_count": 2,
   "metadata": {},
   "outputs": [],
   "source": [
    "limites=np.array([[-3,6],[-4.5,4.5]])\n",
    "\n",
    "f = lambda r: 1/np.pi*np.exp(-(r[0]-4)**2-r[1]**2)"
   ]
  },
  {
   "cell_type": "code",
   "execution_count": 21,
   "metadata": {},
   "outputs": [],
   "source": [
    "def MC(f,limites,N):\n",
    "    sum_1=0\n",
    "    sum_2=0\n",
    "    \n",
    "    Dimension=len(limites)\n",
    "    for M in range(N):\n",
    "        a=limites[:,0]\n",
    "        b=limites[:,1]\n",
    "        rj=np.random.rand(Dimension)*(b-a)+a  #np.random da valores de (0,1)\n",
    "        \n",
    "        sum_1+=f(rj) \n",
    "        sum_2+=f(rj)**2\n",
    "        \n",
    "    f_prom1=sum_1/N\n",
    "    f_prom2=sum_2/N\n",
    "    \n",
    "    prod=1\n",
    "    for x in limites:\n",
    "        prod*=(x[1]-x[0])\n",
    "        \n",
    "    error=((f_prom1**2+f_prom2)/N)**.5*prod\n",
    "        \n",
    "    return (f_prom1*prod,error)"
   ]
  },
  {
   "cell_type": "code",
   "execution_count": 22,
   "metadata": {},
   "outputs": [],
   "source": [
    "## Con Sumas de Rienman \n",
    "def DoubleRieman(f,a,b,c,d,N):\n",
    "\n",
    "    #Observando la grafica, los valores de la funcion aportan una contribucion minima con limites de -2 a 2\n",
    "\n",
    "    dx=(b-a)/N\n",
    "    dy=(d-c)/N\n",
    "    ny=np.arange(c,d,dy)\n",
    "    nx=np.arange(a,b,dx)\n",
    "    \n",
    "    sumx=0\n",
    "    for j in nx:\n",
    "        sumy = 0\n",
    "        for i in ny:\n",
    "            sumy+=f(np.array([i,j]))*dy\n",
    "\n",
    "        sumx+=sumy*dx\n",
    "        \n",
    "    error=abs(1-sumx)/1\n",
    "\n",
    "    return sumx, error"
   ]
  },
  {
   "cell_type": "code",
   "execution_count": 23,
   "metadata": {},
   "outputs": [
    {
     "name": "stdout",
     "output_type": "stream",
     "text": [
      "(0.7816625983949093, 0.35223780079519157)\n",
      "(1.01816605787852, 0.12036303012094153)\n",
      "(0.9961044547092238, 0.03744993689397383)\n"
     ]
    }
   ],
   "source": [
    "for N in (10**2,10**3,10**4):\n",
    "    print(MC(f,limites,N)) #, '\\n', DoubleRieman(f,-3,6,-4.5,4.5,N))"
   ]
  },
  {
   "cell_type": "markdown",
   "metadata": {},
   "source": [
    "\\begin{equation}\n",
    "V_{\\nu}(x)=\\frac{1}{2}\\omega^2 x^2\n",
    "\\end{equation}"
   ]
  },
  {
   "cell_type": "code",
   "execution_count": 24,
   "metadata": {},
   "outputs": [],
   "source": [
    "omega=.972\n",
    "D=15\n",
    "a=.18\n",
    "\n",
    "V = lambda x: 1/2*omega**2*x**2"
   ]
  },
  {
   "cell_type": "code",
   "execution_count": null,
   "metadata": {},
   "outputs": [],
   "source": []
  }
 ],
 "metadata": {
  "kernelspec": {
   "display_name": "Python 3",
   "language": "python",
   "name": "python3"
  }
 },
 "nbformat": 4,
 "nbformat_minor": 2
}
