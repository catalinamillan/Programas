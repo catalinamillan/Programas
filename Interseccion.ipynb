{
 "cells": [
  {
   "cell_type": "markdown",
   "metadata": {},
   "source": [
    "###  Interseccion de funciones"
   ]
  },
  {
   "cell_type": "code",
   "execution_count": 21,
   "metadata": {},
   "outputs": [],
   "source": [
    "import numpy as np\n",
    "import matplotlib.pyplot as plt"
   ]
  },
  {
   "cell_type": "code",
   "execution_count": 28,
   "metadata": {},
   "outputs": [],
   "source": [
    "rango=[-8,np.pi*2]\n",
    "\n",
    "def f1(w):\n",
    "    return -32.17/(2*w**2)*((np.e**(w)-np.e**(-w))/2.-np.sin(w))-1.7\n",
    "def f2(x):\n",
    "    return 0"
   ]
  },
  {
   "cell_type": "code",
   "execution_count": 29,
   "metadata": {},
   "outputs": [
    {
     "name": "stdout",
     "output_type": "stream",
     "text": [
      "Se encontraron 1 intersecciones en el rango dado \n",
      "\n",
      "-0.3170617745090388 0.0\n"
     ]
    }
   ],
   "source": [
    "x_array=np.arange(rango[0],rango[1],.001)\n",
    "y1_array=[f1(i) for i in x_array]\n",
    "y2_array=[f2(i) for i in x_array]\n",
    "\n",
    "\n",
    "ptosx=[]\n",
    "ptosy1=[]\n",
    "ptosy2=[]\n",
    "\n",
    "# Verificamos que haya interseccion\n",
    "for i in range(len(x_array)-1):\n",
    "    if y1_array[i]<y2_array[i] and y1_array[i+1]>=y2_array[i+1] or y1_array[i]>=y2_array[i] and y1_array[i+1]<y2_array[i+1]:\n",
    "    \n",
    "        ptosx.append(x_array[i])\n",
    "        ptosx.append(x_array[i+1])\n",
    "        \n",
    "        ptosy1.append(y1_array[i])\n",
    "        ptosy1.append(y1_array[i+1])\n",
    "    \n",
    "        ptosy2.append(y2_array[i])\n",
    "        ptosy2.append(y2_array[i+1])\n",
    "\n",
    "\n",
    "def cruce_rectas(x1,x2,y11,y12,y21,y22):\n",
    "    \n",
    "    m1=(y12-y11)/(x2-x1)\n",
    "    m2=(y22-y21)/(x2-x1)\n",
    "    \n",
    "    if (m1!=m2):\n",
    "        \n",
    "        b1=-x1*m1+y11\n",
    "        b2=-x1*m2+y21\n",
    "\n",
    "        #Pto de interseccion (a,c)\n",
    "        a=(b2-b1)/(m1-m2)\n",
    "        c=a*m1+b1\n",
    "    \n",
    "        return (a,c)\n",
    "\n",
    "#Se recorre la lista x_array usando la funcion cruce_rectas \n",
    "ptos_crucex=[]\n",
    "ptos_crucey=[]\n",
    "\n",
    "#El indice es por que cruce_rectas entrega dos argumentos\n",
    "for i in range(0,len(ptosx),2):\n",
    "    ptos_crucex.append(cruce_rectas(ptosx[i],ptosx[i+1],ptosy1[i],ptosy1[i+1],ptosy2[i],ptosy2[i+1])[0])\n",
    "    ptos_crucey.append(cruce_rectas(ptosx[i],ptosx[i+1],ptosy1[i],ptosy1[i+1],ptosy2[i],ptosy2[i+1])[1])\n",
    "\n",
    "print(\"Se encontraron %d intersecciones en el rango dado \\n\" %(len(ptos_crucex)))\n",
    "for i in range(len(ptos_crucex)):\n",
    "    print (ptos_crucex[i],ptos_crucey[i])"
   ]
  },
  {
   "cell_type": "code",
   "execution_count": 30,
   "metadata": {},
   "outputs": [
    {
     "data": {
      "image/png": "[encoded data removed]",
      "text/plain": [
       "<Figure size 720x360 with 1 Axes>"
      ]
     },
     "metadata": {
      "needs_background": "light"
     },
     "output_type": "display_data"
    }
   ],
   "source": [
    "#Figura\n",
    "\n",
    "fig=plt.figure(figsize=(10,5))\n",
    "ax=plt.axes()\n",
    "ax.grid()\n",
    "ax.plot(x_array,y1_array)\n",
    "ax.plot(x_array,y2_array)\n",
    "ax.plot(ptos_crucex,ptos_crucey,'.',markersize=15)\n",
    "plt.show()"
   ]
  },
  {
   "cell_type": "code",
   "execution_count": null,
   "metadata": {},
   "outputs": [],
   "source": []
  }
 ],
 "metadata": {
  "kernelspec": {
   "display_name": "Python 3",
   "language": "python",
   "name": "python3"
  },
  "language_info": {
   "codemirror_mode": {
    "name": "ipython",
    "version": 3
   },
   "file_extension": ".py",
   "mimetype": "text/x-python",
   "name": "python",
   "nbconvert_exporter": "python",
   "pygments_lexer": "ipython3",
   "version": "3.6.6"
  }
 },
 "nbformat": 4,
 "nbformat_minor": 2
}
