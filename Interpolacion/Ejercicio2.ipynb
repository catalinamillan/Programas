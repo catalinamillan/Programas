{
 "metadata": {
  "name": "",
  "signature": "sha256:c0452ed853c7d3435dc6b2bc615b84ab224dbfb5d15c96a4c06f09cc1132f3c6"
 },
 "nbformat": 3,
 "nbformat_minor": 0,
 "worksheets": [
  {
   "cells": [
    {
     "cell_type": "markdown",
     "metadata": {},
     "source": [
      "## Ejercicio2: Halley"
     ]
    },
    {
     "cell_type": "code",
     "collapsed": false,
     "input": [
      "import numpy as np\n",
      "import matplotlib.pyplot as plt"
     ],
     "language": "python",
     "metadata": {},
     "outputs": []
    },
    {
     "cell_type": "code",
     "collapsed": false,
     "input": [
      "G=6.67e-11\n",
      "Ms=1.989e30\n",
      "AU=149.6e9 \n",
      "a=17.834*AU\n",
      "e=.96714\n",
      "year= 864900*356.25\n",
      " \n",
      "t_ini=0.\n",
      "t_end=72.32*year\n",
      " \n",
      "time_array=np.linspace(t_ini,t_end,1000)\n",
      " \n",
      "def f(E,t):\n",
      "    value= E-e*np.sin(E)-(G*Ms*a**-3)**.5*t\n",
      "    return value\n",
      " \n",
      "def dfdE(E): ## derivada respecto a E\n",
      "    e=.96714\n",
      "    value =1.-e*np.cos(E)\n",
      "    return  value "
     ],
     "language": "python",
     "metadata": {},
     "outputs": []
    },
    {
     "cell_type": "code",
     "collapsed": false,
     "input": [
      "Tol=1.0e-6\n",
      "Nmax=1000\n",
      "phi_array=[]\n",
      "r_array=[]\n",
      "\n",
      "\n",
      "for i in range(0,len(time_array)):\n",
      "    error=1.\n",
      "    iteracion=0\n",
      "    p_prev=(G*Ms/(a**3)**.5*time_array[i] #Anomal\u00eda media\n",
      "    \n",
      "    while(error>Tol):\n",
      "        p=p_prev-f(p_prev,time_array[i])/dfdE(p_prev)\n",
      "        error=abs(p-p_prev)\n",
      "        p_prev=p\n",
      "        iteracion+=1\n",
      "        \n",
      "        if(iteracion>=Nmax):\n",
      "            print(\"El m\u00e9todo no converge\")\n",
      "            break\n",
      "            \n",
      "    phi=2.*np.arctan(((1.+e)/(1.-e))**0.5*np.tan(.5*p))\n",
      "    r=a*(1.-e**2)/(1.+e*np.cos(phi))\n",
      "    print(\"%.16e\"%p)\n",
      "    phi_array.append(phi)\n",
      "    r_array.append(r)\n",
      "       "
     ],
     "language": "python",
     "metadata": {},
     "outputs": []
    },
    {
     "cell_type": "code",
     "collapsed": false,
     "input": [
      "x_array=[]\n",
      "y_array=[]\n",
      " \n",
      "for i in range(0,len(r_array)):\n",
      "    x_array.append(r_array[i]*np.cos(phi_array[i])/AU)\n",
      "    y_array.append(r_array[i]*np.sin(phi_array[i])/AU)\n",
      "    \n",
      "fig=plt.figure()\n",
      "ax.plt.axes()\n",
      "ax.plot(x_array,y_array)\n",
      "ax.plot(0,0,'*')\n",
      "ax.set_aspect('equal')\n",
      "ax.set_xlabel(\"x[AU]\")\n",
      "ax.set_ylabel(\"y[AU]\")\n",
      "plt.show()\n",
      " \n",
      "print(phi_array)"
     ],
     "language": "python",
     "metadata": {},
     "outputs": []
    }
   ],
   "metadata": {}
  }
 ]
}