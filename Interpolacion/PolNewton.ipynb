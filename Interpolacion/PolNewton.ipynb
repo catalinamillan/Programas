{
 "cells": [
  {
   "cell_type": "markdown",
   "metadata": {},
   "source": [
    "## Interpolacion Polinomio de Newton"
   ]
  },
  {
   "cell_type": "code",
   "execution_count": 2,
   "metadata": {},
   "outputs": [],
   "source": [
    "import numpy as np\n",
    "import matplotlib.pyplot as plt "
   ]
  },
  {
   "cell_type": "code",
   "execution_count": 20,
   "metadata": {},
   "outputs": [],
   "source": [
    "x=[1.,1.3,1.6,1.9,2.2]\n",
    "fx=[.7651977,.6200860,.4554022,.2818186,.1103623]"
   ]
  },
  {
   "cell_type": "code",
   "execution_count": 21,
   "metadata": {},
   "outputs": [
    {
     "name": "stdout",
     "output_type": "stream",
     "text": [
      "[[ 0.7651977   0.          0.          0.          0.        ]\n",
      " [ 0.620086   -0.48370567  0.          0.          0.        ]\n",
      " [ 0.4554022  -0.548946   -0.10873389  0.          0.        ]\n",
      " [ 0.2818186  -0.578612   -0.04944333  0.0658784   0.        ]\n",
      " [ 0.1103623  -0.571521    0.01181833  0.06806852  0.0018251 ]]\n"
     ]
    }
   ],
   "source": [
    "n=len(x)\n",
    "dif=np.zeros((n,n))\n",
    "dif[0][0]=fx[0]\n",
    "dif[1][0]=fx[1]\n",
    "dif[2][0]=fx[2]\n",
    "dif[3][0]=fx[3]\n",
    "dif[4][0]=fx[4]\n",
    "\n",
    "for i in range(1,len(x)):\n",
    "    for j in range(1,i+1):\n",
    "        dif[i][j]=(dif[i][j-1]-dif[i-1][j-1])/(x[i]-x[i-j])\n",
    "        \n",
    "print(dif)     "
   ]
  },
  {
   "cell_type": "code",
   "execution_count": 22,
   "metadata": {},
   "outputs": [],
   "source": [
    "def p(x,fx,xi):\n",
    "    sum=dif[0][0]\n",
    "    for i in range(1,len(x)-1):\n",
    "        prod=1\n",
    "        for j in range(0,i):\n",
    "            prod*=(xi-x[j])\n",
    "        sum+=dif[i][i]*prod\n",
    "    return sum  "
   ]
  },
  {
   "cell_type": "code",
   "execution_count": 23,
   "metadata": {},
   "outputs": [],
   "source": [
    "x_array=np.linspace(min(x),max(x),100)\n",
    "y_array=[]\n",
    "\n",
    "for i in range(0,len(x_array)):\n",
    "    y_array.append(p(x,fx,x_array[i]))\n",
    " "
   ]
  },
  {
   "cell_type": "code",
   "execution_count": 24,
   "metadata": {},
   "outputs": [
    {
     "data": {
      "image/png": "[encoded data removed]",
      "text/plain": [
       "<Figure size 432x288 with 1 Axes>"
      ]
     },
     "metadata": {
      "needs_background": "light"
     },
     "output_type": "display_data"
    }
   ],
   "source": [
    "fig=plt.figure()\n",
    "ax=plt.axes()\n",
    "ax.plot(x,fx,'*')\n",
    "ax.plot(x_array,y_array,'-')\n",
    "plt.show()"
   ]
  },
  {
   "cell_type": "code",
   "execution_count": null,
   "metadata": {},
   "outputs": [],
   "source": []
  }
 ],
 "metadata": {
  "kernelspec": {
   "display_name": "Python 2",
   "language": "python",
   "name": "python2"
  },
  "language_info": {
   "codemirror_mode": {
    "name": "ipython",
    "version": 2
   },
   "file_extension": ".py",
   "mimetype": "text/x-python",
   "name": "python",
   "nbconvert_exporter": "python",
   "pygments_lexer": "ipython2",
   "version": "2.7.12"
  }
 },
 "nbformat": 4,
 "nbformat_minor": 2
}
