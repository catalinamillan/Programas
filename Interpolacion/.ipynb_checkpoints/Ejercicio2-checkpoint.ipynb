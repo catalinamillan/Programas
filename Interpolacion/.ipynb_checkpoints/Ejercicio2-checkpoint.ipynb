{
 "cells": [
  {
   "cell_type": "markdown",
   "metadata": {},
   "source": [
    "## Ejercicio2: Halley"
   ]
  },
  {
   "cell_type": "code",
   "execution_count": null,
   "metadata": {},
   "outputs": [],
   "source": [
    "import numpy as np\n",
    "import matplotlib.pyplot as plt"
   ]
  },
  {
   "cell_type": "code",
   "execution_count": null,
   "metadata": {},
   "outputs": [],
   "source": [
    "G=6.67e-11\n",
    "Ms=1.989e30\n",
    "AU=149.6e9 \n",
    "a=17.834*AU\n",
    "e=.96714\n",
    "year= 864900*356.25\n",
    " \n",
    "t_ini=0.\n",
    "t_end=72.32*year\n",
    " \n",
    "time_array=np.linspace(t_ini,t_end,1000)\n",
    " \n",
    "def f(E,t):\n",
    "    value= E-e*np.sin(E)-(G*Ms*a**-3)**.5*t\n",
    "    return value\n",
    " \n",
    "def dfdE(E): ## derivada respecto a E\n",
    "    e=.96714\n",
    "    value =1.-e*np.cos(E)\n",
    "    return  value "
   ]
  },
  {
   "cell_type": "code",
   "execution_count": null,
   "metadata": {},
   "outputs": [],
   "source": [
    "Tol=1.0e-6\n",
    "Nmax=1000\n",
    "phi_array=[]\n",
    "r_array=[]\n",
    "\n",
    "\n",
    "for i in range(0,len(time_array)):\n",
    "    error=1.\n",
    "    iteracion=0\n",
    "    p_prev=(G*Ms/(a**3)**.5*time_array[i] #Anomalía media\n",
    "    \n",
    "    while(error>Tol):\n",
    "        p=p_prev-f(p_prev,time_array[i])/dfdE(p_prev)\n",
    "        error=abs(p-p_prev)\n",
    "        p_prev=p\n",
    "        iteracion+=1\n",
    "        \n",
    "        if(iteracion>=Nmax):\n",
    "            print(\"El método no converge\")\n",
    "            break\n",
    "            \n",
    "    phi=2.*np.arctan(((1.+e)/(1.-e))**0.5*np.tan(.5*p))\n",
    "    r=a*(1.-e**2)/(1.+e*np.cos(phi))\n",
    "    print(\"%.16e\"%p)\n",
    "    phi_array.append(phi)\n",
    "    r_array.append(r)\n",
    "       "
   ]
  },
  {
   "cell_type": "code",
   "execution_count": null,
   "metadata": {},
   "outputs": [],
   "source": [
    "x_array=[]\n",
    "y_array=[]\n",
    " \n",
    "for i in range(0,len(r_array)):\n",
    "    x_array.append(r_array[i]*np.cos(phi_array[i])/AU)\n",
    "    y_array.append(r_array[i]*np.sin(phi_array[i])/AU)\n",
    "    \n",
    "fig=plt.figure()\n",
    "ax.plt.axes()\n",
    "ax.plot(x_array,y_array)\n",
    "ax.plot(0,0,'*')\n",
    "ax.set_aspect('equal')\n",
    "ax.set_xlabel(\"x[AU]\")\n",
    "ax.set_ylabel(\"y[AU]\")\n",
    "plt.show()\n",
    " \n",
    "print(phi_array)"
   ]
  }
 ],
 "metadata": {
  "kernelspec": {
   "display_name": "Python 2",
   "language": "python",
   "name": "python2"
  },
  "language_info": {
   "codemirror_mode": {
    "name": "ipython",
    "version": 2
   },
   "file_extension": ".py",
   "mimetype": "text/x-python",
   "name": "python",
   "nbconvert_exporter": "python",
   "pygments_lexer": "ipython2",
   "version": "2.7.12"
  }
 },
 "nbformat": 4,
 "nbformat_minor": 1
}
