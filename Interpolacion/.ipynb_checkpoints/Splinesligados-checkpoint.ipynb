{
 "cells": [
  {
   "cell_type": "markdown",
   "metadata": {},
   "source": [
    "## Splines ligados"
   ]
  },
  {
   "cell_type": "code",
   "execution_count": 4,
   "metadata": {},
   "outputs": [],
   "source": [
    "import numpy as np\n",
    "import matplotlib.pyplot as plt "
   ]
  },
  {
   "cell_type": "code",
   "execution_count": 42,
   "metadata": {},
   "outputs": [
    {
     "name": "stdout",
     "output_type": "stream",
     "text": [
      "(1, 30)\n"
     ]
    }
   ],
   "source": [
    "x =[[1,2,5,6,7,8,10,13,17],[17,20,23,24,25,27,27.7],[27.7,28,29,30]] #Son tres conjutos de datos distintos\n",
    "a = [[3,3.7,3.9,4.2,5.7,6.6,7.1,6.7,4.5],[4.5,7.,6.1,5.6,5.8,5.2,4.1],[4.1,4.3,4.1,3.]] #f(x)\n",
    "dfx0=[1.,3.,.33]  #Condiciones de frontera \n",
    "dfxn=[-.67,-4.,-1.5]"
   ]
  },
  {
   "cell_type": "code",
   "execution_count": 45,
   "metadata": {},
   "outputs": [],
   "source": [
    "b_lists=[]\n",
    "c_lists=[]\n",
    "d_lists=[]\n",
    "\n",
    "for i in range(len(x)):\n",
    "    \n",
    "    b_lists.append(np.zeros(len(x[i])))\n",
    "    c_lists.append(np.zeros(len(x[i])))\n",
    "    d_lists.append(np.zeros(len(x[i])))\n"
   ]
  },
  {
   "cell_type": "code",
   "execution_count": 46,
   "metadata": {},
   "outputs": [
    {
     "name": "stdout",
     "output_type": "stream",
     "text": [
      "[[3, 3.7, 3.9, 4.2, 5.7, 6.6, 7.1, 6.7, 4.5], [4.5, 7.0, 6.1, 5.6, 5.8, 5.2, 4.1], [4.1, 4.3, 4.1, 3.0]]\n",
      "[array([1.        , 0.36650794, 0.56793651, 0.        , 0.        ,\n",
      "       0.        , 0.        , 0.        , 0.        ]), array([ 3.        , -0.57419355,  0.89677419,  0.        ,  0.        ,\n",
      "        0.        ,  0.        ]), array([ 0.33      ,  0.66138614, -0.76534653,  0.        ])]\n",
      "[array([-0.26650794, -0.36698413,  0.43412698,  0.        ,  0.        ,\n",
      "        0.        ,  0.        ,  0.        ,  0.        ]), array([-0.97526882, -0.21612903,  0.70645161,  0.        ,  0.        ,\n",
      "        0.        ,  0.        ]), array([ 2.2620462 , -1.15742574, -0.26930693,  0.        ])]\n",
      "[array([-0.03349206,  0.08901235, -0.70206349,  0.        ,  0.        ,\n",
      "        0.        ,  0.        ,  0.        ,  0.        ]), array([ 0.08434886,  0.10250896, -2.10322581,  0.        ,  0.        ,\n",
      "        0.        ,  0.        ]), array([-3.79941327,  0.2960396 , -0.06534653,  0.        ])]\n"
     ]
    }
   ],
   "source": [
    "for j in range(len(x)):\n",
    "    n=len(x[i])-1\n",
    "\n",
    "    h = np.zeros(n)\n",
    "    alfa = np.zeros(n+1)\n",
    "\n",
    "    l = np.zeros(n+1)\n",
    "    nu = np.zeros(n+1)\n",
    "    z = np.zeros(n+1)\n",
    "\n",
    "    c = np.zeros(n+1)\n",
    "    b = np.zeros(n+1)\n",
    "    d = np.zeros(n+1)\n",
    "\n",
    "    for i in range(n):\n",
    "        h[i]=x[j][i+1]-x[j][i]\n",
    "\n",
    "    alfa[0] = 3*(a[j][1]-a[j][0])/h[0]-3*dfx0[j]\n",
    "    alfa[n] = 3*dfxn[j]-3*(a[j][n]-a[j][n-1])/h[n-1]\n",
    "\n",
    "    for i in range(1,n):\n",
    "        alfa[i]=3*(a[j][i+1]-a[j][i])/h[i]-3*(a[j][i]-a[j][i-1])/h[i-1]\n",
    "\n",
    "    l[0] = 2.*h[0]\n",
    "    nu[0] = .5 \n",
    "    z[0] = alfa[0]/l[0]\n",
    "\n",
    "    for i in range(1,n):\n",
    "        l[i] = 2.*(x[j][i+1]-x[j][i-1]) - h[i-1]*nu[i-1]\n",
    "        nu[i] = h[i]/l[i]\n",
    "        z[i] = (alfa[i] - h[i-1]*z[i-1])/l[i]\n",
    "\n",
    "\n",
    "    l[n] = h[n-1]*(2.-nu[n-1])\n",
    "    z[n] = (alfa[n]-h[n-1]*z[n-1])/l[n]\n",
    "    c[n] = z[n]\n",
    "\n",
    "    for k in range(n-1,-1,-1):\n",
    "        c[k] = z[k] - nu[k]*c[k+1]\n",
    "        c_lists[j][k]=c[k]\n",
    "        \n",
    "        b[k] = (a[j][k+1] - a[j][k])/h[k] - h[k]*(c[k+1]+2.*c[k])/3.\n",
    "        b_lists[j][k]=b[k]\n",
    "        \n",
    "        d[k] = (c[k+1] - c[k])/(3.*h[k])\n",
    "        d_lists[j][k]=d[k]\n",
    "\n",
    "print(a)\n",
    "print(b_lists)\n",
    "print(c_lists)\n",
    "print(d_lists)\n",
    "\n"
   ]
  },
  {
   "cell_type": "code",
   "execution_count": 47,
   "metadata": {},
   "outputs": [
    {
     "ename": "TypeError",
     "evalue": "object of type 'int' has no len()",
     "output_type": "error",
     "traceback": [
      "\u001b[0;31m---------------------------------------------------------------------------\u001b[0m",
      "\u001b[0;31mTypeError\u001b[0m                                 Traceback (most recent call last)",
      "\u001b[0;32m<ipython-input-47-7680e3449e8c>\u001b[0m in \u001b[0;36m<module>\u001b[0;34m()\u001b[0m\n\u001b[1;32m      5\u001b[0m \u001b[0mp\u001b[0m\u001b[0;34m=\u001b[0m\u001b[0;36m0\u001b[0m\u001b[0;34m\u001b[0m\u001b[0m\n\u001b[1;32m      6\u001b[0m \u001b[0;32mfor\u001b[0m \u001b[0mi\u001b[0m \u001b[0;32min\u001b[0m \u001b[0mrange\u001b[0m\u001b[0;34m(\u001b[0m\u001b[0;36m0\u001b[0m\u001b[0;34m,\u001b[0m\u001b[0mlen\u001b[0m\u001b[0;34m(\u001b[0m\u001b[0mx_array\u001b[0m\u001b[0;34m)\u001b[0m\u001b[0;34m)\u001b[0m\u001b[0;34m:\u001b[0m\u001b[0;34m\u001b[0m\u001b[0m\n\u001b[0;32m----> 7\u001b[0;31m     \u001b[0mn\u001b[0m\u001b[0;34m=\u001b[0m\u001b[0mlen\u001b[0m\u001b[0;34m(\u001b[0m\u001b[0mx\u001b[0m\u001b[0;34m[\u001b[0m\u001b[0mk\u001b[0m\u001b[0;34m]\u001b[0m\u001b[0;34m[\u001b[0m\u001b[0mi\u001b[0m\u001b[0;34m]\u001b[0m\u001b[0;34m)\u001b[0m\u001b[0;34m\u001b[0m\u001b[0m\n\u001b[0m\u001b[1;32m      8\u001b[0m     \u001b[0;32mfor\u001b[0m \u001b[0mj\u001b[0m \u001b[0;32min\u001b[0m \u001b[0mrange\u001b[0m\u001b[0;34m(\u001b[0m\u001b[0;36m0\u001b[0m\u001b[0;34m,\u001b[0m\u001b[0mn\u001b[0m\u001b[0;34m)\u001b[0m\u001b[0;34m:\u001b[0m\u001b[0;34m\u001b[0m\u001b[0m\n\u001b[1;32m      9\u001b[0m         \u001b[0;32mif\u001b[0m \u001b[0mx\u001b[0m\u001b[0;34m[\u001b[0m\u001b[0mk\u001b[0m\u001b[0;34m]\u001b[0m\u001b[0;34m[\u001b[0m\u001b[0mj\u001b[0m\u001b[0;34m]\u001b[0m\u001b[0;34m<=\u001b[0m\u001b[0mx_array\u001b[0m\u001b[0;34m[\u001b[0m\u001b[0mi\u001b[0m\u001b[0;34m]\u001b[0m\u001b[0;34m<\u001b[0m\u001b[0mx\u001b[0m\u001b[0;34m[\u001b[0m\u001b[0mk\u001b[0m\u001b[0;34m]\u001b[0m\u001b[0;34m[\u001b[0m\u001b[0mj\u001b[0m\u001b[0;34m+\u001b[0m\u001b[0;36m1\u001b[0m\u001b[0;34m]\u001b[0m\u001b[0;34m:\u001b[0m\u001b[0;34m\u001b[0m\u001b[0m\n",
      "\u001b[0;31mTypeError\u001b[0m: object of type 'int' has no len()"
     ]
    }
   ],
   "source": [
    "x_array = np.linspace(min(x[0]),max(x[len(x)-1]),100)\n",
    "y_array = []\n",
    "\n",
    "k=0\n",
    "p=0\n",
    "for i in range(0,len(x_array)):\n",
    "    n=len(x[k][i])\n",
    "    for j in range(0,n):\n",
    "        if x[k][j]<=x_array[i]<x[k][j+1]:\n",
    "            s = a[j]+b_lists[k][j]*(x_array[i]-x[k][j]) + c_lists[k][j]*(x_array[i]-x[k][j])**2 + d_lists[k][j]*(x_array[i]-x[k][j])**3\n",
    "            y_array.append(s)\n",
    "    if x_array[i]==x[k][n]:\n",
    "        s = a[n]+b_lists[k][n]*(x_array[i]-x[k][n]) + c_lists[k][n]*(x_array[i]-x[k][n])**2 + d_lists[k][n]*(x_array[i]-x[k][n])**3\n",
    "        y_array.append(s)\n",
    "    if(i-p==len(x[k][i])):\n",
    "        k+=1\n",
    "    p+=1\n",
    "print(len(y_array))\n",
    "print(len(x_array))\n",
    "fig=plt.figure(figsize=(30,8))\n",
    "ax=plt.axes()\n",
    "#ax.plot(x_list,y_list)\n",
    "ax.plot(x_array,y_array,'*')\n",
    "plt.show()"
   ]
  },
  {
   "cell_type": "code",
   "execution_count": null,
   "metadata": {},
   "outputs": [],
   "source": []
  }
 ],
 "metadata": {
  "kernelspec": {
   "display_name": "Python 2",
   "language": "python",
   "name": "python2"
  },
  "language_info": {
   "codemirror_mode": {
    "name": "ipython",
    "version": 2
   },
   "file_extension": ".py",
   "mimetype": "text/x-python",
   "name": "python",
   "nbconvert_exporter": "python",
   "pygments_lexer": "ipython2",
   "version": "2.7.12"
  }
 },
 "nbformat": 4,
 "nbformat_minor": 2
}
