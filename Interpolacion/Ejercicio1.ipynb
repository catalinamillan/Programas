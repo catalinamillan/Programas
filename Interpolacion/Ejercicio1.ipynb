{
 "metadata": {
  "name": "",
  "signature": "sha256:c8ea9b7e9d4736fa908962b6cf21d08a33108ea574b93b3d92a457daa49e1822"
 },
 "nbformat": 3,
 "nbformat_minor": 0,
 "worksheets": [
  {
   "cells": [
    {
     "cell_type": "markdown",
     "metadata": {},
     "source": [
      "### EJERCICIO 1: Gas real"
     ]
    },
    {
     "cell_type": "code",
     "collapsed": false,
     "input": [
      "def func(V):\n",
      "    value=(10+3.599/V**2)*(V-0.04267)-0.08205*353.2\n",
      "    return value\n",
      "#10.*V**3-10.*.04267*V**2.+3.599*V-3.599*.04267-0.08205*353.2*V**2."
     ],
     "language": "python",
     "metadata": {},
     "outputs": []
    },
    {
     "cell_type": "code",
     "collapsed": false,
     "input": [
      "#Longitud inicial del intervalo \n",
      "ai=-8\n",
      "bi=3.\n",
      " \n",
      "#Tolerancia \n",
      "Tol= 1.e-8\n",
      " \n",
      "#Error inicial \n",
      "error=1. #Siempre tiene que ser mayor que la tolerancia \n",
      "#N\u00famero m\u00e1ximo de iteraciones \n",
      "Nmax=1000 \n",
      "iteracion=0\n",
      "#Verificaci\u00f3n del tma del valor medio \n",
      " \n",
      "if (func(ai)*func(bi)<0):\n",
      "    while(error>Tol):\n",
      "        pi=(ai+bi)*.5\n",
      "        pi_previo=pi\n",
      "        \n",
      "        if(func(pi)*func(ai)>0):\n",
      "            ai=pi\n",
      "            bi=bi\n",
      "        elif(func(pi)*func(bi)>0):\n",
      "            ai=ai\n",
      "            bi=pi\n",
      "            \n",
      "        pi=(ai+bi)*.5\n",
      "        error=abs(pi-pi_previo)\n",
      "        iteracion+=1\n",
      "        \n",
      "        print(\"pi=%f\\t ai=%f\\t bi=%f\\t f(pi)=% f\\t error=%f\"%(pi, ai, bi, abs(func(pi)), error))\n",
      "        \n",
      "        if (iteracion>=Nmax):\n",
      "            print(\"N\u00famero m\u00e1ximo de iteraciones excedido\")\n",
      "            break\n",
      "else:\n",
      "    print(\"Intervalo inadecuado\")\n",
      " \n",
      " \n",
      "print(\"solucion=%.5e\"%(pi))\n",
      "print(iteracion)"
     ],
     "language": "python",
     "metadata": {},
     "outputs": []
    }
   ],
   "metadata": {}
  }
 ]
}