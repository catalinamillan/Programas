{
 "cells": [
  {
   "cell_type": "markdown",
   "metadata": {},
   "source": [
    "### Polinomios de Hermite "
   ]
  },
  {
   "cell_type": "code",
   "execution_count": 1,
   "metadata": {},
   "outputs": [],
   "source": [
    "import numpy as np\n",
    "import matplotlib.pyplot as plt"
   ]
  },
  {
   "cell_type": "code",
   "execution_count": 102,
   "metadata": {},
   "outputs": [],
   "source": [
    "x=[1.3,1.6,1.9]\n",
    "fx=[.6200860,.4554022,.2818186]\n",
    "dfdx=[-.5220232,-.5698959,-.5811571]"
   ]
  },
  {
   "cell_type": "code",
   "execution_count": 124,
   "metadata": {},
   "outputs": [
    {
     "name": "stdout",
     "output_type": "stream",
     "text": [
      "(0.511825147632, 0.5118277017281774, 0.5177774213580157, 0.5156813600000001)\n",
      "[[ 0.620086    0.          0.          0.          0.          0.        ]\n",
      " [ 0.620086   -0.5220232   0.          0.          0.          0.        ]\n",
      " [ 0.4554022  -0.548946   -0.08974267  0.          0.          0.        ]\n",
      " [ 0.4554022  -0.5698959  -0.069833    0.06636556  0.          0.        ]\n",
      " [ 0.2818186  -0.578612   -0.02905367  0.06796556  0.00266667  0.        ]\n",
      " [ 0.2818186  -0.5811571  -0.00848367  0.06856667  0.00100185 -0.00277469]]\n",
      "[1.3 1.3 1.6 1.6 1.9 1.9]\n"
     ]
    }
   ],
   "source": [
    "n=len(x)\n",
    "z=np.zeros(2*n)\n",
    "Q=np.zeros((2*n,2*n))\n",
    "\n",
    "for i in range(0,n):\n",
    "    z[2*i]=x[i]\n",
    "    z[2*i+1]=x[i]\n",
    "    Q[2*i][0]=fx[i]\n",
    "    Q[2*i+1][0]=fx[i]\n",
    "    Q[2*i+1][1]=dfdx[i]\n",
    "\n",
    "    \n",
    "    if(i!=0):\n",
    "        Q[2*i][1]=(Q[2*i+1][0]-Q[2*i-1][0])/(z[2*i]-z[2*i-1])\n",
    "\n",
    "for i in range(2,2*n):\n",
    "    for j in range(2,i+1):\n",
    "        Q[i][j]=(Q[i][j-1]-Q[i-1][j-1])/(z[i]-z[i-j])\n",
    "\n",
    "        \n",
    "def H(x_list,fx_list,x):\n",
    "    sum=Q[0][0]\n",
    "    for k in range(1,2*len(x_list)):\n",
    "        prod=1\n",
    "        for j in range(0,k):\n",
    "            prod*=(x-z[k])\n",
    "            sum+=Q[k][k]*prod\n",
    "    return sum\n",
    "\n",
    "def H1(x):\n",
    "    y=Q[0][0]\n",
    "    for k in range(1,2*n):\n",
    "        prod=1\n",
    "        for j in range(0,k):\n",
    "            prod*=(x-z[j])\n",
    "        y+=Q[k][k]*prod\n",
    "        return y\n",
    "#Q[1][1]*(x-z[0])+Q[2][2]*(x-z[0])*(x-z[1])+Q[3][3]*(x-z[0])*(x-z[1])*(x-z[2])+Q[4][4]*(x-z[0])*(x-z[1])*(x-z[2])*(x-z[3])+Q[5][5]*(x-z[0])*(x-z[1])*(x-z[2])*(x-z[3])*(x-z[4])\n",
    "                                                                                                                                           \n",
    "####################################################################################\n",
    "\n",
    "def k(x):\n",
    "    \n",
    "    y=0.6200860 +(-.5220232)*(x-1.3)+(-0.0897427)*(x-1.3)**2+0.0663657*(x-1.3)**2*(x-1.6)+0.0026663*(x-1.3)**2*(x-1.6)**2+(-0.0027738)*(x-1.3)**2*(x-1.6)**2*(1.9)\n",
    "    return y\n",
    "\n",
    "print(k(1.5),h(1.5),H(x,fx,1.5), H1(1.5))\n",
    "print(Q)\n",
    "print(z)"
   ]
  },
  {
   "cell_type": "code",
   "execution_count": 110,
   "metadata": {},
   "outputs": [
    {
     "data": {
      "image/png": "[encoded data removed]",
      "text/plain": [
       "<Figure size 432x288 with 1 Axes>"
      ]
     },
     "metadata": {
      "needs_background": "light"
     },
     "output_type": "display_data"
    }
   ],
   "source": [
    "x_array=np.linspace(min(x),max(x),100)\n",
    "y_array=[]\n",
    "\n",
    "for i in range(0,len(x_array)):\n",
    "    y_array.append(k(x_array[i]))\n",
    "\n",
    "        \n",
    "fig=plt.figure()\n",
    "ax=plt.axes()\n",
    "ax.plot(x,fx,'*')\n",
    "ax.plot(x_array,y_array,'-')\n",
    "plt.show()"
   ]
  },
  {
   "cell_type": "code",
   "execution_count": null,
   "metadata": {},
   "outputs": [],
   "source": []
  },
  {
   "cell_type": "code",
   "execution_count": null,
   "metadata": {},
   "outputs": [],
   "source": []
  }
 ],
 "metadata": {
  "kernelspec": {
   "display_name": "Python 2",
   "language": "python",
   "name": "python2"
  },
  "language_info": {
   "codemirror_mode": {
    "name": "ipython",
    "version": 2
   },
   "file_extension": ".py",
   "mimetype": "text/x-python",
   "name": "python",
   "nbconvert_exporter": "python",
   "pygments_lexer": "ipython2",
   "version": "2.7.12"
  }
 },
 "nbformat": 4,
 "nbformat_minor": 2
}
