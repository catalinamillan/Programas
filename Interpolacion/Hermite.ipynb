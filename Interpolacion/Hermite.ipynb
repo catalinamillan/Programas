{
 "cells": [
  {
   "cell_type": "markdown",
   "metadata": {},
   "source": [
    "### Polinomios de Hermite "
   ]
  },
  {
   "cell_type": "code",
   "execution_count": 1,
   "metadata": {},
   "outputs": [],
   "source": [
    "import numpy as np\n",
    "import matplotlib.pyplot as plt"
   ]
  },
  {
   "cell_type": "code",
   "execution_count": 2,
   "metadata": {},
   "outputs": [],
   "source": [
    "x=[1.3,1.6,1.9]\n",
    "fx=[.6200860,.4554022,.2818186]\n",
    "dfdx=[-.5220232,-.5698959,-.5811571]"
   ]
  },
  {
   "cell_type": "code",
   "execution_count": 18,
   "metadata": {},
   "outputs": [
    {
     "ename": "IndexError",
     "evalue": "index 6 is out of bounds for axis 0 with size 6",
     "output_type": "error",
     "traceback": [
      "\u001b[0;31m---------------------------------------------------------------------------\u001b[0m",
      "\u001b[0;31mIndexError\u001b[0m                                Traceback (most recent call last)",
      "\u001b[0;32m<ipython-input-18-7b6adfdfd2fa>\u001b[0m in \u001b[0;36m<module>\u001b[0;34m()\u001b[0m\n\u001b[1;32m     45\u001b[0m     \u001b[0;32mreturn\u001b[0m \u001b[0my\u001b[0m\u001b[0;34m\u001b[0m\u001b[0m\n\u001b[1;32m     46\u001b[0m \u001b[0;34m\u001b[0m\u001b[0m\n\u001b[0;32m---> 47\u001b[0;31m \u001b[0;32mprint\u001b[0m\u001b[0;34m(\u001b[0m\u001b[0mk\u001b[0m\u001b[0;34m(\u001b[0m\u001b[0;36m1.5\u001b[0m\u001b[0;34m)\u001b[0m\u001b[0;34m,\u001b[0m\u001b[0mH\u001b[0m\u001b[0;34m(\u001b[0m\u001b[0mx\u001b[0m\u001b[0;34m,\u001b[0m\u001b[0mfx\u001b[0m\u001b[0;34m,\u001b[0m\u001b[0;36m1.5\u001b[0m\u001b[0;34m)\u001b[0m\u001b[0;34m,\u001b[0m \u001b[0mH1\u001b[0m\u001b[0;34m(\u001b[0m\u001b[0;36m1.5\u001b[0m\u001b[0;34m)\u001b[0m\u001b[0;34m)\u001b[0m\u001b[0;34m\u001b[0m\u001b[0m\n\u001b[0m\u001b[1;32m     48\u001b[0m \u001b[0;32mprint\u001b[0m\u001b[0;34m(\u001b[0m\u001b[0mQ\u001b[0m\u001b[0;34m)\u001b[0m\u001b[0;34m\u001b[0m\u001b[0m\n\u001b[1;32m     49\u001b[0m \u001b[0;32mprint\u001b[0m\u001b[0;34m(\u001b[0m\u001b[0mz\u001b[0m\u001b[0;34m)\u001b[0m\u001b[0;34m\u001b[0m\u001b[0m\n",
      "\u001b[0;32m<ipython-input-18-7b6adfdfd2fa>\u001b[0m in \u001b[0;36mH\u001b[0;34m(x_list, fx_list, x)\u001b[0m\n\u001b[1;32m     24\u001b[0m         \u001b[0mprod\u001b[0m\u001b[0;34m=\u001b[0m\u001b[0;36m1\u001b[0m\u001b[0;34m\u001b[0m\u001b[0m\n\u001b[1;32m     25\u001b[0m         \u001b[0;32mfor\u001b[0m \u001b[0mj\u001b[0m \u001b[0;32min\u001b[0m \u001b[0mrange\u001b[0m\u001b[0;34m(\u001b[0m\u001b[0;36m0\u001b[0m\u001b[0;34m,\u001b[0m\u001b[0mk\u001b[0m\u001b[0;34m)\u001b[0m\u001b[0;34m:\u001b[0m\u001b[0;34m\u001b[0m\u001b[0m\n\u001b[0;32m---> 26\u001b[0;31m             \u001b[0mprod\u001b[0m\u001b[0;34m*=\u001b[0m\u001b[0;34m(\u001b[0m\u001b[0mx\u001b[0m\u001b[0;34m-\u001b[0m\u001b[0mz\u001b[0m\u001b[0;34m[\u001b[0m\u001b[0mk\u001b[0m\u001b[0;34m]\u001b[0m\u001b[0;34m)\u001b[0m\u001b[0;34m\u001b[0m\u001b[0m\n\u001b[0m\u001b[1;32m     27\u001b[0m             \u001b[0msum\u001b[0m\u001b[0;34m+=\u001b[0m\u001b[0mQ\u001b[0m\u001b[0;34m[\u001b[0m\u001b[0mk\u001b[0m\u001b[0;34m]\u001b[0m\u001b[0;34m[\u001b[0m\u001b[0mk\u001b[0m\u001b[0;34m]\u001b[0m\u001b[0;34m*\u001b[0m\u001b[0mprod\u001b[0m\u001b[0;34m\u001b[0m\u001b[0m\n\u001b[1;32m     28\u001b[0m     \u001b[0;32mreturn\u001b[0m \u001b[0msum\u001b[0m\u001b[0;34m\u001b[0m\u001b[0m\n",
      "\u001b[0;31mIndexError\u001b[0m: index 6 is out of bounds for axis 0 with size 6"
     ]
    }
   ],
   "source": [
    "n=len(x)\n",
    "z=np.zeros(2*n)\n",
    "Q=np.zeros((2*n,2*n))\n",
    "\n",
    "for i in range(0,n):\n",
    "    z[2*i]=x[i]\n",
    "    z[2*i+1]=x[i]\n",
    "    Q[2*i][0]=fx[i]\n",
    "    Q[2*i+1][0]=fx[i]\n",
    "    Q[2*i+1][1]=dfdx[i]\n",
    "\n",
    "    \n",
    "    if(i!=0):\n",
    "        Q[2*i][1]=(Q[2*i+1][0]-Q[2*i-1][0])/(z[2*i]-z[2*i-1])\n",
    "\n",
    "for i in range(2,2*n):\n",
    "    for j in range(2,i+1):\n",
    "        Q[i][j]=(Q[i][j-1]-Q[i-1][j-1])/(z[i]-z[i-j])\n",
    "\n",
    "        \n",
    "def H(x_list,fx_list,x):\n",
    "    sum=Q[0][0]\n",
    "    for k in range(1,2*len(x_list)):\n",
    "        prod=1\n",
    "        for j in range(0,k):\n",
    "            prod*=(x-z[k])\n",
    "            sum+=Q[k][k]*prod\n",
    "    return sum\n",
    "\n",
    "def H1(x):\n",
    "    y=Q[0][0]\n",
    "    for k in range(1,2*n):\n",
    "        prod=1\n",
    "        for j in range(0,k):\n",
    "            prod*=(x-z[j])\n",
    "        y+=Q[k][k]*prod\n",
    "        return y\n",
    "#Q[1][1]*(x-z[0])+Q[2][2]*(x-z[0])*(x-z[1])+Q[3][3]*(x-z[0])*(x-z[1])*(x-z[2])+Q[4][4]*(x-z[0])*(x-z[1])*(x-z[2])*(x-z[3])+Q[5][5]*(x-z[0])*(x-z[1])*(x-z[2])*(x-z[3])*(x-z[4])\n",
    "                                                                                                                                           \n",
    "####################################################################################\n",
    "\n",
    "def k(x):\n",
    "    \n",
    "    y=0.6200860 +(-.5220232)*(x-1.3)+(-0.0897427)*(x-1.3)**2+0.0663657*(x-1.3)**2*(x-1.6)+0.0026663*(x-1.3)**2*(x-1.6)**2+(-0.0027738)*(x-1.3)**2*(x-1.6)**2*(1.9)\n",
    "    return y\n",
    "\n",
    "print(k(1.5),H(x,fx,1.5), H1(1.5))\n",
    "print(Q)\n",
    "print(z)"
   ]
  },
  {
   "cell_type": "code",
   "execution_count": 17,
   "metadata": {},
   "outputs": [
    {
     "data": {
      "image/png": "[encoded data removed]",
      "text/plain": [
       "<Figure size 432x288 with 1 Axes>"
      ]
     },
     "metadata": {
      "needs_background": "light"
     },
     "output_type": "display_data"
    }
   ],
   "source": [
    "x_array=np.linspace(min(x),max(x),100)\n",
    "y_array=[]\n",
    "\n",
    "for i in range(0,len(x_array)):\n",
    "    y_array.append(H(x,fx,x_array[i]))\n",
    "\n",
    "        \n",
    "fig=plt.figure()\n",
    "ax=plt.axes()\n",
    "ax.plot(x,fx,'*')\n",
    "ax.plot(x_array,y_array,'-')\n",
    "plt.show()"
   ]
  },
  {
   "cell_type": "code",
   "execution_count": null,
   "metadata": {},
   "outputs": [],
   "source": []
  }
 ],
 "metadata": {
  "kernelspec": {
   "display_name": "Python 2",
   "language": "python",
   "name": "python2"
  },
  "language_info": {
   "codemirror_mode": {
    "name": "ipython",
    "version": 2
   },
   "file_extension": ".py",
   "mimetype": "text/x-python",
   "name": "python",
   "nbconvert_exporter": "python",
   "pygments_lexer": "ipython2",
   "version": "2.7.12"
  }
 },
 "nbformat": 4,
 "nbformat_minor": 2
}
